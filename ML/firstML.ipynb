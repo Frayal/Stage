{
 "cells": [
  {
   "cell_type": "code",
   "execution_count": 1,
   "metadata": {},
   "outputs": [],
   "source": [
    "#################################################\n",
    "#created the 02/052018 14:27 by Alexis Blanchet#\n",
    "#################################################\n",
    "import warnings\n",
    "warnings.filterwarnings('ignore')\n",
    "import numpy as np\n",
    "import pandas as pd\n",
    "import matplotlib.pyplot as plt\n",
    "import random\n",
    "import os\n",
    "import scipy.stats\n",
    "import matplotlib\n",
    "import plotly.offline as offline\n",
    "import plotly.graph_objs as go\n",
    "from sklearn.cluster import SpectralClustering\n",
    "import plotly\n",
    "import plotly.graph_objs as go\n",
    "import plotly.offline as offline\n",
    "from plotly import tools\n",
    "from plotly.offline import download_plotlyjs, init_notebook_mode, plot, iplot\n",
    "from sklearn.cluster import AgglomerativeClustering\n",
    "from sklearn.neighbors import kneighbors_graph\n",
    "from scipy import stats\n",
    "from sklearn.metrics import log_loss\n",
    "import plotly\n",
    "import plotly.graph_objs as go\n",
    "import plotly.offline as offline\n",
    "from plotly import tools\n",
    "from plotly.offline import download_plotlyjs, init_notebook_mode, plot, iplot"
   ]
  },
  {
   "cell_type": "code",
   "execution_count": 2,
   "metadata": {},
   "outputs": [],
   "source": [
    "df = pd.read_csv('/home/alexis/Bureau/Stage/Time-series/data/processed/sfrdaily_20180430_0_192_0_cleandata-processed.csv')"
   ]
  },
  {
   "cell_type": "code",
   "execution_count": 3,
   "metadata": {},
   "outputs": [
    {
     "data": {
      "text/html": [
       "<div>\n",
       "<style scoped>\n",
       "    .dataframe tbody tr th:only-of-type {\n",
       "        vertical-align: middle;\n",
       "    }\n",
       "\n",
       "    .dataframe tbody tr th {\n",
       "        vertical-align: top;\n",
       "    }\n",
       "\n",
       "    .dataframe thead th {\n",
       "        text-align: right;\n",
       "    }\n",
       "</style>\n",
       "<table border=\"1\" class=\"dataframe\">\n",
       "  <thead>\n",
       "    <tr style=\"text-align: right;\">\n",
       "      <th></th>\n",
       "      <th>CP</th>\n",
       "    </tr>\n",
       "  </thead>\n",
       "  <tbody>\n",
       "    <tr>\n",
       "      <th>0</th>\n",
       "      <td>0</td>\n",
       "    </tr>\n",
       "    <tr>\n",
       "      <th>1</th>\n",
       "      <td>0</td>\n",
       "    </tr>\n",
       "    <tr>\n",
       "      <th>2</th>\n",
       "      <td>0</td>\n",
       "    </tr>\n",
       "    <tr>\n",
       "      <th>3</th>\n",
       "      <td>0</td>\n",
       "    </tr>\n",
       "    <tr>\n",
       "      <th>4</th>\n",
       "      <td>0</td>\n",
       "    </tr>\n",
       "  </tbody>\n",
       "</table>\n",
       "</div>"
      ],
      "text/plain": [
       "   CP\n",
       "0   0\n",
       "1   0\n",
       "2   0\n",
       "3   0\n",
       "4   0"
      ]
     },
     "execution_count": 3,
     "metadata": {},
     "output_type": "execute_result"
    }
   ],
   "source": [
    "y = pd.read_csv('/home/alexis/Bureau/Stage/Time-series/y_true.csv').drop(['Unnamed: 0'],axis = 1)\n",
    "y.head()"
   ]
  },
  {
   "cell_type": "code",
   "execution_count": 4,
   "metadata": {},
   "outputs": [],
   "source": [
    "df = df.replace([np.inf, -np.inf], np.nan)\n",
    "df = df.fillna(1)"
   ]
  },
  {
   "cell_type": "code",
   "execution_count": 5,
   "metadata": {},
   "outputs": [],
   "source": [
    "res = [398,409,428,441,455,468,487,494,518,523,568,585,634,642,652,657,676,711,748,778,828,850,827,849,859,893,896,897,915,936,960,981,1008,1048,1049,1060,1061,1067,1071,1078,1079,1086,1087,1120,1155,1156,1187,1188,1189,1190,1215,1250,1278,1290,1305,1333,1344,1368,1380]"
   ]
  },
  {
   "cell_type": "code",
   "execution_count": 6,
   "metadata": {},
   "outputs": [],
   "source": [
    "for i in res:\n",
    "    y['CP'][i+3] = 1\n",
    "y.to_csv('/home/alexis/Bureau/Stage/Time-series/y_true2.csv',index=False)"
   ]
  },
  {
   "cell_type": "code",
   "execution_count": 7,
   "metadata": {},
   "outputs": [],
   "source": [
    "def plot_annomalies(df,anomalies):\n",
    "    \"\"\"\n",
    "    prend en entrée le nombres d'indicateurs qui detectent une annomalie\n",
    "    ainsi que le datafame contenant tous les features(on a effacé 3 lignes)\n",
    "    renvoie un graph présentant les zones d'incertitudes quand a la présence\n",
    "    d'un événement important dans la plage horaire\n",
    "    en vert une montée d'audience, en orange une baisse d'audiance\n",
    "    \"\"\"\n",
    "    anomalies = list(anomalies)\n",
    "    l1 = find_index(anomalies,0)\n",
    "    l2 = find_index(anomalies,-1)\n",
    "    l3 = find_index(anomalies,1)\n",
    "\n",
    "    x = df['t'].values\n",
    "    t= [i for i in range(len(x))]\n",
    "    x1 = [t[i] for i in l1]\n",
    "    x2 = [t[i] for i in l2]\n",
    "    x3 = [t[i] for i in l3]\n",
    "    y1 = [x[i] for i in l1]\n",
    "    y2 = [x[i] for i in l2]\n",
    "    y3 = [x[i] for i in l3]\n",
    "\n",
    "    \n",
    "    trace1 = go.Scatter(\n",
    "        x=x1,\n",
    "        y=y1,\n",
    "        mode = 'markers',\n",
    "        name = 'regular',\n",
    "    \n",
    "    )\n",
    "    trace2 = go.Scatter(\n",
    "        x=x2,\n",
    "        y=y2,\n",
    "        mode = 'markers',\n",
    "        name ='anormal loss',\n",
    "    )\n",
    "    trace3 = go.Scatter(\n",
    "        x=x3,\n",
    "        y=y3,\n",
    "        mode = 'markers',\n",
    "        name = 'anormal gain',\n",
    "    )\n",
    "    trace4 = go.Scatter(\n",
    "        x=0,\n",
    "        y=0,\n",
    "        mode = 'markers',\n",
    "        name = 'begin of programmes',\n",
    "    )\n",
    "        \n",
    "    fig = tools.make_subplots(rows=4, cols=1, specs=[[{}], [{}], [{}], [{}]],\n",
    "                              shared_xaxes=True, shared_yaxes=True,\n",
    "                              vertical_spacing=0.001)\n",
    "    fig.append_trace(trace1, 1, 1)\n",
    "    fig.append_trace(trace2, 1, 1)\n",
    "    fig.append_trace(trace3, 1, 1)\n",
    "    fig.append_trace(trace4, 1, 1)\n",
    "\n",
    "    fig['layout'].update(height=3000, width=2000, title='Annomalie detection')\n",
    "    plot(fig, filename='data.html')\n",
    "\n",
    "def find_index(l,v):\n",
    "    res = []\n",
    "    for i, j in enumerate(l):\n",
    "        if(j == v):\n",
    "            res.append(i)\n",
    "    return res    "
   ]
  },
  {
   "cell_type": "code",
   "execution_count": 8,
   "metadata": {},
   "outputs": [
    {
     "name": "stdout",
     "output_type": "stream",
     "text": [
      "This is the format of your plot grid:\n",
      "[ (1,1) x1,y1 ]\n",
      "[ (2,1) x1,y2 ]\n",
      "[ (3,1) x1,y3 ]\n",
      "[ (4,1) x1,y4 ]\n",
      "\n"
     ]
    }
   ],
   "source": [
    "plot_annomalies(df,y['CP'][3:])"
   ]
  },
  {
   "cell_type": "code",
   "execution_count": 9,
   "metadata": {},
   "outputs": [
    {
     "data": {
      "text/plain": [
       "(1437, 28)"
      ]
     },
     "execution_count": 9,
     "metadata": {},
     "output_type": "execute_result"
    }
   ],
   "source": [
    "df.shape"
   ]
  },
  {
   "cell_type": "code",
   "execution_count": 10,
   "metadata": {},
   "outputs": [
    {
     "data": {
      "text/plain": [
       "(1440,)"
      ]
     },
     "execution_count": 10,
     "metadata": {},
     "output_type": "execute_result"
    }
   ],
   "source": [
    "y['CP'].shape"
   ]
  },
  {
   "cell_type": "code",
   "execution_count": 11,
   "metadata": {},
   "outputs": [],
   "source": [
    "y_pred = df['label']"
   ]
  },
  {
   "cell_type": "code",
   "execution_count": 11,
   "metadata": {},
   "outputs": [],
   "source": [
    "X = df.values\n",
    "y = y['CP'][3:].values"
   ]
  },
  {
   "cell_type": "code",
   "execution_count": 12,
   "metadata": {},
   "outputs": [
    {
     "name": "stdout",
     "output_type": "stream",
     "text": [
      "962 475\n"
     ]
    }
   ],
   "source": [
    "from sklearn.preprocessing import MinMaxScaler\n",
    "from sklearn.metrics import mean_squared_error\n",
    "dataset = df\n",
    "scaler = MinMaxScaler(feature_range=(0, 1))\n",
    "dataset = scaler.fit_transform(dataset)\n",
    "Y = y.reshape(-1, 1)\n",
    "scalery = MinMaxScaler(feature_range=(0, 1))\n",
    "Y = scalery.fit_transform(Y)\n",
    "# split into train and test sets\n",
    "train_size = int(len(dataset) * 0.67)\n",
    "test_size = len(dataset) - train_size\n",
    "trainX, testX = dataset[0:train_size,:], dataset[train_size:len(dataset),:]\n",
    "trainY, testY = Y[0:train_size], Y[train_size:len(dataset)]\n",
    "print(len(trainX), len(testX))"
   ]
  },
  {
   "cell_type": "code",
   "execution_count": 13,
   "metadata": {},
   "outputs": [],
   "source": [
    "#Some functions and losses for the algorithms\n",
    "\n",
    "def logloss_lgbm(preds, dtrain):\n",
    "    labels = dtrain.get_label()\n",
    "    score = 1-log_loss(labels, preds)\n",
    "    return 'logloss', score,True\n",
    "\n",
    "def logloss_xgb(preds, dtrain):\n",
    "    labels = dtrain.get_label()\n",
    "    score = log_loss(labels, preds)\n",
    "    return 'logloss', score\n"
   ]
  },
  {
   "cell_type": "code",
   "execution_count": 14,
   "metadata": {},
   "outputs": [
    {
     "name": "stdout",
     "output_type": "stream",
     "text": [
      "[0]\ttrain-logloss:0.676617\tvalid-logloss:0.676971\n",
      "Multiple eval metrics have been passed: 'valid-logloss' will be used for early stopping.\n",
      "\n",
      "Will train until valid-logloss hasn't improved in 300 rounds.\n",
      "[100]\ttrain-logloss:0.15843\tvalid-logloss:0.180351\n",
      "[200]\ttrain-logloss:0.081714\tvalid-logloss:0.117231\n",
      "[300]\ttrain-logloss:0.0599\tvalid-logloss:0.106123\n",
      "[400]\ttrain-logloss:0.050188\tvalid-logloss:0.104761\n",
      "[500]\ttrain-logloss:0.044546\tvalid-logloss:0.10384\n",
      "[600]\ttrain-logloss:0.041615\tvalid-logloss:0.103928\n",
      "[700]\ttrain-logloss:0.039141\tvalid-logloss:0.103672\n",
      "[800]\ttrain-logloss:0.037714\tvalid-logloss:0.103735\n",
      "[900]\ttrain-logloss:0.036577\tvalid-logloss:0.104009\n",
      "[1000]\ttrain-logloss:0.035652\tvalid-logloss:0.10411\n",
      "Stopping. Best iteration:\n",
      "[713]\ttrain-logloss:0.038913\tvalid-logloss:0.10359\n",
      "\n",
      "[0]\ttrain-logloss:0.676299\tvalid-logloss:0.67717\n",
      "Multiple eval metrics have been passed: 'valid-logloss' will be used for early stopping.\n",
      "\n",
      "Will train until valid-logloss hasn't improved in 300 rounds.\n",
      "[100]\ttrain-logloss:0.144278\tvalid-logloss:0.171928\n",
      "[200]\ttrain-logloss:0.066516\tvalid-logloss:0.112179\n",
      "[300]\ttrain-logloss:0.044602\tvalid-logloss:0.101252\n",
      "[400]\ttrain-logloss:0.034729\tvalid-logloss:0.101519\n",
      "[500]\ttrain-logloss:0.029121\tvalid-logloss:0.102525\n",
      "[600]\ttrain-logloss:0.025705\tvalid-logloss:0.103257\n",
      "Stopping. Best iteration:\n",
      "[355]\ttrain-logloss:0.038496\tvalid-logloss:0.100773\n",
      "\n"
     ]
    }
   ],
   "source": [
    "######################################################\n",
    "from sklearn.base import BaseEstimator\n",
    "from sklearn.ensemble import RandomForestClassifier\n",
    "import xgboost as xgb\n",
    "from sklearn.model_selection import train_test_split\n",
    "import numpy as np\n",
    "######################################################\n",
    "### XGB modeling\n",
    "params = {'eta': 0.02,\n",
    "          'max_depth': 20, \n",
    "          'subsample': 0.9, \n",
    "          'colsample_bytree': 0.9, \n",
    "          'colsample_bylevel':0.9,\n",
    "          'min_child_weight':1,\n",
    "          'alpha':2,\n",
    "          'objective': 'binary:logistic',\n",
    "          'eval_metric': 'logloss',\n",
    "          'seed': 99,\n",
    "          'silent': False}\n",
    "params2 = {'eta': 0.02,\n",
    "          'max_depth': 15, \n",
    "          'subsample': 0.9, \n",
    "          'colsample_bytree': 0.9, \n",
    "          'colsample_bylevel':0.9,\n",
    "          'min_child_weight':1,\n",
    "          'alpha':1,\n",
    "          'objective': 'binary:logistic',\n",
    "          'eval_metric': 'logloss',\n",
    "          'seed': 99,\n",
    "          'silent': False}\n",
    "######################################################\n",
    "class Classifier(BaseEstimator):\n",
    "    def __init__(self):\n",
    "        pass\n",
    " \n",
    "    def fit(self, X, y):\n",
    "        x1, x2, y1, y2 = train_test_split(X, y[:X.shape[0]], test_size=0.2, random_state=99)\n",
    "        watchlist = [(xgb.DMatrix(x1, y1), 'train'), (xgb.DMatrix(x2, y2), 'valid')]\n",
    "        self.clf1 = xgb.train(params, xgb.DMatrix(x1, y1), 5000,  watchlist, maximize = False,verbose_eval=100, early_stopping_rounds=300)\n",
    "        self.clf2 = xgb.train(params2, xgb.DMatrix(x1, y1), 5000,  watchlist, maximize = False,verbose_eval=100, early_stopping_rounds=300)\n",
    "        \n",
    "       \n",
    "    def predict(self, X):\n",
    "        return self.clf.predict(X)\n",
    " \n",
    "    def predict_proba(self, X):\n",
    "        res1 = self.clf1.predict(xgb.DMatrix(X), ntree_limit=self.clf1.best_ntree_limit)\n",
    "        res2 = self.clf2.predict(xgb.DMatrix(X), ntree_limit=self.clf2.best_ntree_limit)\n",
    "        res = [(r1+r2)*0.5 for r1,r2 in zip(res1,res2)]\n",
    "        return np.array([ [1-c,c] for c in res])\n",
    "clf = Classifier()\n",
    "clf.fit(trainX,trainY)"
   ]
  },
  {
   "cell_type": "code",
   "execution_count": 17,
   "metadata": {},
   "outputs": [
    {
     "name": "stdout",
     "output_type": "stream",
     "text": [
      "Training until validation scores don't improve for 300 rounds.\n",
      "[100]\tvalid_0's binary_logloss: 0.579435\tvalid_0's logloss: 0.420565\n",
      "[200]\tvalid_0's binary_logloss: 0.492978\tvalid_0's logloss: 0.507022\n",
      "[300]\tvalid_0's binary_logloss: 0.423957\tvalid_0's logloss: 0.576043\n",
      "[400]\tvalid_0's binary_logloss: 0.366637\tvalid_0's logloss: 0.633363\n",
      "[500]\tvalid_0's binary_logloss: 0.321804\tvalid_0's logloss: 0.678196\n",
      "[600]\tvalid_0's binary_logloss: 0.284904\tvalid_0's logloss: 0.715096\n",
      "[700]\tvalid_0's binary_logloss: 0.254648\tvalid_0's logloss: 0.745352\n",
      "[800]\tvalid_0's binary_logloss: 0.230523\tvalid_0's logloss: 0.769477\n",
      "[900]\tvalid_0's binary_logloss: 0.210173\tvalid_0's logloss: 0.789827\n",
      "[1000]\tvalid_0's binary_logloss: 0.192377\tvalid_0's logloss: 0.807623\n",
      "[1100]\tvalid_0's binary_logloss: 0.177546\tvalid_0's logloss: 0.822454\n",
      "[1200]\tvalid_0's binary_logloss: 0.165399\tvalid_0's logloss: 0.834601\n",
      "[1300]\tvalid_0's binary_logloss: 0.154896\tvalid_0's logloss: 0.845104\n",
      "[1400]\tvalid_0's binary_logloss: 0.145772\tvalid_0's logloss: 0.854228\n",
      "[1500]\tvalid_0's binary_logloss: 0.137864\tvalid_0's logloss: 0.862136\n",
      "[1600]\tvalid_0's binary_logloss: 0.131277\tvalid_0's logloss: 0.868723\n",
      "[1700]\tvalid_0's binary_logloss: 0.12565\tvalid_0's logloss: 0.87435\n",
      "[1800]\tvalid_0's binary_logloss: 0.120957\tvalid_0's logloss: 0.879043\n",
      "[1900]\tvalid_0's binary_logloss: 0.116816\tvalid_0's logloss: 0.883184\n",
      "[2000]\tvalid_0's binary_logloss: 0.113327\tvalid_0's logloss: 0.886673\n",
      "[2100]\tvalid_0's binary_logloss: 0.11029\tvalid_0's logloss: 0.88971\n",
      "[2200]\tvalid_0's binary_logloss: 0.107705\tvalid_0's logloss: 0.892295\n",
      "[2300]\tvalid_0's binary_logloss: 0.105635\tvalid_0's logloss: 0.894365\n",
      "[2400]\tvalid_0's binary_logloss: 0.10395\tvalid_0's logloss: 0.89605\n",
      "[2500]\tvalid_0's binary_logloss: 0.102573\tvalid_0's logloss: 0.897427\n",
      "[2600]\tvalid_0's binary_logloss: 0.101197\tvalid_0's logloss: 0.898803\n",
      "[2700]\tvalid_0's binary_logloss: 0.100202\tvalid_0's logloss: 0.899798\n",
      "[2800]\tvalid_0's binary_logloss: 0.0994644\tvalid_0's logloss: 0.900536\n",
      "[2900]\tvalid_0's binary_logloss: 0.099027\tvalid_0's logloss: 0.900973\n",
      "[3000]\tvalid_0's binary_logloss: 0.098882\tvalid_0's logloss: 0.901118\n",
      "[3100]\tvalid_0's binary_logloss: 0.0987353\tvalid_0's logloss: 0.901265\n",
      "[3200]\tvalid_0's binary_logloss: 0.0985261\tvalid_0's logloss: 0.901474\n",
      "[3300]\tvalid_0's binary_logloss: 0.0985328\tvalid_0's logloss: 0.901467\n",
      "[3400]\tvalid_0's binary_logloss: 0.0987367\tvalid_0's logloss: 0.901263\n",
      "Early stopping, best iteration is:\n",
      "[3176]\tvalid_0's binary_logloss: 0.0984349\tvalid_0's logloss: 0.901565\n",
      "Training until validation scores don't improve for 300 rounds.\n",
      "[100]\tvalid_0's binary_logloss: 0.579435\tvalid_0's logloss: 0.420565\n",
      "[200]\tvalid_0's binary_logloss: 0.492988\tvalid_0's logloss: 0.507012\n",
      "[300]\tvalid_0's binary_logloss: 0.424056\tvalid_0's logloss: 0.575944\n",
      "[400]\tvalid_0's binary_logloss: 0.366784\tvalid_0's logloss: 0.633216\n",
      "[500]\tvalid_0's binary_logloss: 0.322025\tvalid_0's logloss: 0.677975\n",
      "[600]\tvalid_0's binary_logloss: 0.28512\tvalid_0's logloss: 0.71488\n",
      "[700]\tvalid_0's binary_logloss: 0.254633\tvalid_0's logloss: 0.745367\n",
      "[800]\tvalid_0's binary_logloss: 0.230596\tvalid_0's logloss: 0.769404\n",
      "[900]\tvalid_0's binary_logloss: 0.210272\tvalid_0's logloss: 0.789728\n",
      "[1000]\tvalid_0's binary_logloss: 0.193215\tvalid_0's logloss: 0.806785\n",
      "[1100]\tvalid_0's binary_logloss: 0.178555\tvalid_0's logloss: 0.821445\n",
      "[1200]\tvalid_0's binary_logloss: 0.16595\tvalid_0's logloss: 0.83405\n",
      "[1300]\tvalid_0's binary_logloss: 0.15529\tvalid_0's logloss: 0.84471\n",
      "[1400]\tvalid_0's binary_logloss: 0.146266\tvalid_0's logloss: 0.853734\n",
      "[1500]\tvalid_0's binary_logloss: 0.138357\tvalid_0's logloss: 0.861643\n",
      "[1600]\tvalid_0's binary_logloss: 0.131779\tvalid_0's logloss: 0.868221\n",
      "[1700]\tvalid_0's binary_logloss: 0.126008\tvalid_0's logloss: 0.873992\n",
      "[1800]\tvalid_0's binary_logloss: 0.12129\tvalid_0's logloss: 0.87871\n",
      "[1900]\tvalid_0's binary_logloss: 0.117025\tvalid_0's logloss: 0.882975\n",
      "[2000]\tvalid_0's binary_logloss: 0.113457\tvalid_0's logloss: 0.886543\n",
      "[2100]\tvalid_0's binary_logloss: 0.110345\tvalid_0's logloss: 0.889655\n",
      "[2200]\tvalid_0's binary_logloss: 0.107781\tvalid_0's logloss: 0.892219\n",
      "[2300]\tvalid_0's binary_logloss: 0.105841\tvalid_0's logloss: 0.894159\n",
      "[2400]\tvalid_0's binary_logloss: 0.104009\tvalid_0's logloss: 0.895991\n",
      "[2500]\tvalid_0's binary_logloss: 0.102471\tvalid_0's logloss: 0.897529\n",
      "[2600]\tvalid_0's binary_logloss: 0.101259\tvalid_0's logloss: 0.898741\n",
      "[2700]\tvalid_0's binary_logloss: 0.100273\tvalid_0's logloss: 0.899727\n",
      "[2800]\tvalid_0's binary_logloss: 0.099572\tvalid_0's logloss: 0.900428\n",
      "[2900]\tvalid_0's binary_logloss: 0.0990124\tvalid_0's logloss: 0.900988\n",
      "[3000]\tvalid_0's binary_logloss: 0.0986954\tvalid_0's logloss: 0.901305\n",
      "[3100]\tvalid_0's binary_logloss: 0.0985502\tvalid_0's logloss: 0.90145\n",
      "[3200]\tvalid_0's binary_logloss: 0.0986003\tvalid_0's logloss: 0.9014\n",
      "[3300]\tvalid_0's binary_logloss: 0.0988803\tvalid_0's logloss: 0.90112\n",
      "[3400]\tvalid_0's binary_logloss: 0.0989995\tvalid_0's logloss: 0.901001\n",
      "Early stopping, best iteration is:\n",
      "[3134]\tvalid_0's binary_logloss: 0.0984114\tvalid_0's logloss: 0.901589\n"
     ]
    }
   ],
   "source": [
    "######################################################\n",
    "from sklearn.base import BaseEstimator\n",
    "from sklearn.ensemble import RandomForestClassifier\n",
    "import xgboost as xgb\n",
    "from sklearn.model_selection import train_test_split\n",
    "import numpy as np\n",
    "import lightgbm as lgb\n",
    "######################################################\n",
    "\n",
    "\n",
    "### LGB modeling\n",
    "params = {'learning_rate': 0.0015,\n",
    "          'subsample': 0.9,\n",
    "          #'subsample_freq': 1,\n",
    "          'colsample_bytree': 0.9,\n",
    "          'colsample_bylevel':0.9,\n",
    "          'reg_alpha': 0.0,\n",
    "          'reg_lambda': 0,\n",
    "          'max_depth' : 6,\n",
    "          'num_leaves': 10,        \n",
    "          'min_data_in_leaf': 1, \n",
    "          'boosting': 'goss',#'rf','dart','goss','gbdt'\n",
    "          'objective': 'binary',\n",
    "          'metric': 'binary_logloss',\n",
    "          'is_training_metric': True,\n",
    "          'seed': 99,}\n",
    "\n",
    "params1 = {'learning_rate': 0.0015,\n",
    "          'subsample': 0.9,\n",
    "          #'subsample_freq': 1,\n",
    "          'colsample_bytree': 0.9,\n",
    "          'colsample_bylevel':0.9,\n",
    "          'reg_alpha': 0.0,\n",
    "          'reg_lambda': 0,\n",
    "          'max_depth' : 7,\n",
    "          'num_leaves': 10,        \n",
    "          'min_data_in_leaf': 1, \n",
    "          'boosting': 'goss',#'rf','dart','goss','gbdt'\n",
    "          'objective': 'binary',\n",
    "          'metric': 'binary_logloss',\n",
    "          'is_training_metric': True,\n",
    "          'seed': 99,}\n",
    "MAX_TREES = 5000\n",
    "\n",
    "class Classifier1(BaseEstimator):\n",
    "    def __init__(self):\n",
    "        pass\n",
    "\n",
    "    def fit(self, X, y):\n",
    "        \n",
    "        x1, x2, y1, y2 = train_test_split(X, y, test_size=0.2, random_state=99)\n",
    "        watchlist = [(lgb.Dataset(x1, label=y1), 'train'), (lgb.Dataset(x2, label=y2), 'valid')]\n",
    "        self.clf2 = lgb.train(params, lgb.Dataset(x1, label=y1), MAX_TREES, lgb.Dataset(x2, label=y2),verbose_eval=100, feval=logloss_lgbm, early_stopping_rounds=300)\n",
    "        self.clf1 = lgb.train(params1, lgb.Dataset(x1, label=y1), MAX_TREES, lgb.Dataset(x2, label=y2),verbose_eval=100, feval=logloss_lgbm, early_stopping_rounds=300)\n",
    "    def predict(self, X):\n",
    "        return self.clf1.predict(X)\n",
    "\n",
    "    def predict_proba(self, X):\n",
    "        res1 = self.clf1.predict(X, num_iteration = self.clf1.best_iteration)\n",
    "        res2 = self.clf2.predict(X,num_iteration = self.clf2.best_iteration)\n",
    "        return np.array([[1-0.5*(a+b),0.5*(a+b)] for a,b in zip(res1,res2)])\n",
    "        \n",
    "    \n",
    "classifier1 = Classifier1()\n",
    "classifier1.fit(trainX,[y[0] for y in trainY])"
   ]
  },
  {
   "cell_type": "code",
   "execution_count": 19,
   "metadata": {},
   "outputs": [
    {
     "name": "stdout",
     "output_type": "stream",
     "text": [
      "0:\tlearn: 0.6770226\ttest: 0.6775017\tbest: 0.6775017 (0)\ttotal: 66.3ms\tremaining: 2m 12s\n",
      "50:\tlearn: 0.2654680\ttest: 0.2709226\tbest: 0.2709226 (50)\ttotal: 398ms\tremaining: 15.2s\n",
      "100:\tlearn: 0.1581734\ttest: 0.1710420\tbest: 0.1710420 (100)\ttotal: 725ms\tremaining: 13.6s\n",
      "150:\tlearn: 0.1198262\ttest: 0.1402540\tbest: 0.1402540 (150)\ttotal: 1.06s\tremaining: 12.9s\n",
      "200:\tlearn: 0.0994268\ttest: 0.1279633\tbest: 0.1279470 (199)\ttotal: 1.38s\tremaining: 12.4s\n",
      "250:\tlearn: 0.0831238\ttest: 0.1212821\tbest: 0.1212694 (249)\ttotal: 1.72s\tremaining: 12s\n",
      "300:\tlearn: 0.0724177\ttest: 0.1173469\tbest: 0.1173469 (300)\ttotal: 2.04s\tremaining: 11.5s\n",
      "350:\tlearn: 0.0629343\ttest: 0.1155949\tbest: 0.1155949 (350)\ttotal: 2.41s\tremaining: 11.3s\n",
      "400:\tlearn: 0.0548245\ttest: 0.1140066\tbest: 0.1140066 (400)\ttotal: 2.82s\tremaining: 11.2s\n",
      "450:\tlearn: 0.0485562\ttest: 0.1131710\tbest: 0.1129757 (445)\ttotal: 3.15s\tremaining: 10.8s\n",
      "500:\tlearn: 0.0426865\ttest: 0.1127149\tbest: 0.1126613 (479)\ttotal: 3.48s\tremaining: 10.4s\n",
      "550:\tlearn: 0.0376408\ttest: 0.1129083\tbest: 0.1123529 (514)\ttotal: 3.81s\tremaining: 10s\n",
      "600:\tlearn: 0.0332536\ttest: 0.1136646\tbest: 0.1123529 (514)\ttotal: 4.14s\tremaining: 9.63s\n",
      "Stopped by overfitting detector  (100 iterations wait)\n",
      "\n",
      "bestTest = 0.1123528557\n",
      "bestIteration = 514\n",
      "\n",
      "Shrink model to first 515 iterations.\n",
      "0:\tlearn: 0.6766895\ttest: 0.6771329\tbest: 0.6771329 (0)\ttotal: 12ms\tremaining: 24s\n",
      "50:\tlearn: 0.2623560\ttest: 0.2720088\tbest: 0.2720088 (50)\ttotal: 617ms\tremaining: 23.6s\n",
      "100:\tlearn: 0.1545054\ttest: 0.1722274\tbest: 0.1722274 (100)\ttotal: 1.21s\tremaining: 22.8s\n",
      "150:\tlearn: 0.1139010\ttest: 0.1391877\tbest: 0.1391877 (150)\ttotal: 1.82s\tremaining: 22.2s\n",
      "200:\tlearn: 0.0930272\ttest: 0.1266928\tbest: 0.1266928 (200)\ttotal: 2.4s\tremaining: 21.5s\n",
      "250:\tlearn: 0.0777752\ttest: 0.1194000\tbest: 0.1194000 (250)\ttotal: 3.01s\tremaining: 21s\n",
      "300:\tlearn: 0.0661822\ttest: 0.1164748\tbest: 0.1163120 (299)\ttotal: 3.59s\tremaining: 20.3s\n",
      "350:\tlearn: 0.0575124\ttest: 0.1159128\tbest: 0.1158436 (348)\ttotal: 4.19s\tremaining: 19.7s\n",
      "400:\tlearn: 0.0497937\ttest: 0.1149394\tbest: 0.1147570 (395)\ttotal: 4.8s\tremaining: 19.1s\n",
      "450:\tlearn: 0.0441273\ttest: 0.1141192\tbest: 0.1141192 (450)\ttotal: 5.38s\tremaining: 18.5s\n",
      "500:\tlearn: 0.0386348\ttest: 0.1134990\tbest: 0.1134990 (500)\ttotal: 5.99s\tremaining: 17.9s\n",
      "550:\tlearn: 0.0341566\ttest: 0.1129693\tbest: 0.1129679 (548)\ttotal: 6.59s\tremaining: 17.3s\n",
      "600:\tlearn: 0.0298392\ttest: 0.1128954\tbest: 0.1128766 (595)\ttotal: 7.19s\tremaining: 16.7s\n",
      "650:\tlearn: 0.0266251\ttest: 0.1132677\tbest: 0.1128529 (603)\ttotal: 7.8s\tremaining: 16.2s\n",
      "700:\tlearn: 0.0235673\ttest: 0.1138367\tbest: 0.1128529 (603)\ttotal: 8.4s\tremaining: 15.6s\n",
      "Stopped by overfitting detector  (100 iterations wait)\n",
      "\n",
      "bestTest = 0.1128529068\n",
      "bestIteration = 603\n",
      "\n",
      "Shrink model to first 604 iterations.\n"
     ]
    }
   ],
   "source": [
    "from sklearn.base import BaseEstimator\n",
    "import numpy as np\n",
    "import pandas as pd\n",
    "from catboost import CatBoostClassifier\n",
    "from sklearn.model_selection import train_test_split\n",
    "\n",
    "class Classifier3(BaseEstimator):\n",
    "    def __init__(self):\n",
    "        pass\n",
    "\n",
    "    def fit(self, X, y):\n",
    "        x1, x2, y1, y2 = train_test_split(X, y, test_size=0.2, random_state=99)\n",
    "        self.clf1 = CatBoostClassifier(iterations=2000,learning_rate=0.01, depth=7,metric_period = 50, loss_function='Logloss', eval_metric='Logloss', random_seed=99, od_type='Iter', od_wait=100)\n",
    "        self.clf1.fit(x1,y1,verbose=True,eval_set=(x2,y2),use_best_model=True)\n",
    "        self.clf2 = CatBoostClassifier(iterations=2000,learning_rate=0.01, depth=8,metric_period = 50, loss_function='Logloss', eval_metric='Logloss', random_seed=99, od_type='Iter', od_wait=100)\n",
    "        self.clf2.fit(x1,y1,verbose=True,eval_set=(x2,y2),use_best_model=True)\n",
    "    def predict(self, X):\n",
    "        return self.clf.predict(X)\n",
    "\n",
    "    def predict_proba(self, X):\n",
    "        return np.array([[0,(v[1]+l[1])*0.5] for v,l in zip(self.clf2.predict_proba(X),self.clf1.predict_proba(X))])\n",
    "classifier3 = Classifier3()\n",
    "classifier3.fit(trainX,[y[0] for y in trainY])"
   ]
  },
  {
   "cell_type": "code",
   "execution_count": 20,
   "metadata": {},
   "outputs": [],
   "source": [
    "X_test = testX\n",
    "y1,y2,y3 = clf.predict_proba(X_test),classifier1.predict_proba(X_test),classifier3.predict_proba(X_test)\n"
   ]
  },
  {
   "cell_type": "code",
   "execution_count": 22,
   "metadata": {},
   "outputs": [],
   "source": [
    "X_test = trainX\n",
    "y1,y2,y3 = clf.predict_proba(X_test),classifier1.predict_proba(X_test),classifier3.predict_proba(X_test)\n",
    "\n",
    "trainPredict = []\n",
    "for i in range(y1.shape[0]):\n",
    "    r = (y1[i][1]+y2[i][1]+y3[i][1])/3\n",
    "    if(r>0.15):\n",
    "        trainPredict.append(1)\n",
    "    else:\n",
    "        trainPredict.append(0)"
   ]
  },
  {
   "cell_type": "code",
   "execution_count": 23,
   "metadata": {},
   "outputs": [],
   "source": [
    "X_test = testX\n",
    "y1,y2,y3 = clf.predict_proba(X_test),classifier1.predict_proba(X_test),classifier3.predict_proba(X_test)\n",
    "testPredict = []\n",
    "for i in range(y1.shape[0]):\n",
    "    r = (y1[i][1]+y2[i][1]+y3[i][1])/3\n",
    "    if(r>0.15):\n",
    "        testPredict.append(1)\n",
    "    else:\n",
    "        testPredict.append(0)"
   ]
  },
  {
   "cell_type": "code",
   "execution_count": 25,
   "metadata": {},
   "outputs": [
    {
     "name": "stdout",
     "output_type": "stream",
     "text": [
      "[398, 409, 413, 428, 429, 441, 442, 454, 455, 456, 468, 469, 487, 494, 497, 518, 523, 529, 535, 568, 585, 588, 591, 595, 634, 642, 652, 656, 657, 676, 682, 711, 748, 757, 778, 784, 827, 828, 833, 849, 850, 859, 861, 869, 893, 896, 897, 915, 936, 960, 981, 1008, 1048, 1049, 1060, 1061, 1067, 1071, 1078, 1079, 1086, 1087, 1120, 1155, 1156, 1187, 1188, 1189, 1190, 1215, 1250, 1278, 1290, 1305, 1333, 1344, 1368, 1380]\n",
      "This is the format of your plot grid:\n",
      "[ (1,1) x1,y1 ]\n",
      "[ (2,1) x1,y2 ]\n",
      "[ (3,1) x1,y3 ]\n",
      "[ (4,1) x1,y4 ]\n",
      "\n"
     ]
    },
    {
     "data": {
      "text/plain": [
       "'file:///home/alexis/Bureau/Stage/ML/data.html'"
      ]
     },
     "execution_count": 25,
     "metadata": {},
     "output_type": "execute_result"
    }
   ],
   "source": [
    "x = df['t'].values\n",
    "t= [i for i in range(len(x))]\n",
    "\n",
    "\n",
    "l1 = find_index(trainPredict,1)\n",
    "l2 = find_index(testPredict,1)\n",
    "\n",
    "x1 = [t[i] for i in l1]\n",
    "x2 = [t[i+train_size] for i in l2]\n",
    "\n",
    "y1 = [x[i] for i in l1]\n",
    "y2 = [x[i+train_size] for i in l2]\n",
    "\n",
    "l3 = find_index(y,1)\n",
    "print(l3)\n",
    "x3 = [t[i] for i in l3]\n",
    "y3 = [x[i] for i in l3]\n",
    "\n",
    "\n",
    "trace1 = go.Scatter(\n",
    "        x= t,\n",
    "        y= x,\n",
    "        name = 'true',\n",
    "    \n",
    ")\n",
    "trace2 = go.Scatter(\n",
    "        x =x1,\n",
    "        y=y1,\n",
    "        mode = 'markers',\n",
    "        name ='train',\n",
    ")\n",
    "trace3 = go.Scatter(\n",
    "        x=x2,\n",
    "        y= y2,\n",
    "        mode = 'markers',\n",
    "        name = 'test',\n",
    ")\n",
    "trace4 = go.Scatter(\n",
    "        x=x3,\n",
    "        y=y3,\n",
    "        mode = 'markers',\n",
    "        name = 'true events',\n",
    ")\n",
    "        \n",
    "fig = tools.make_subplots(rows=4, cols=1, specs=[[{}], [{}], [{}], [{}]],\n",
    "                              shared_xaxes=True, shared_yaxes=True,\n",
    "                              vertical_spacing=0.001)\n",
    "fig.append_trace(trace1, 1, 1)\n",
    "fig.append_trace(trace2, 1, 1)\n",
    "fig.append_trace(trace3, 1, 1)\n",
    "fig.append_trace(trace4, 1, 1)\n",
    "\n",
    "fig['layout'].update(height=3000, width=2000, title='Annomalie detection')\n",
    "plot(fig, filename='data.html')\n"
   ]
  },
  {
   "cell_type": "code",
   "execution_count": null,
   "metadata": {},
   "outputs": [],
   "source": []
  },
  {
   "cell_type": "code",
   "execution_count": 20,
   "metadata": {},
   "outputs": [],
   "source": [
    "df2 = pd.read_csv('/home/alexis/Bureau/Stage/Time-series/data/processed/sfrdaily_20171215_0_192_0_cleandata-processed.csv')\n",
    "y2 = pd.read_csv('/home/alexis/Bureau/Stage/Time-series/data/processed/sfrdaily_20171215_0_192_0_cleandata-y.csv')"
   ]
  },
  {
   "cell_type": "code",
   "execution_count": 21,
   "metadata": {},
   "outputs": [
    {
     "data": {
      "text/html": [
       "<div>\n",
       "<style scoped>\n",
       "    .dataframe tbody tr th:only-of-type {\n",
       "        vertical-align: middle;\n",
       "    }\n",
       "\n",
       "    .dataframe tbody tr th {\n",
       "        vertical-align: top;\n",
       "    }\n",
       "\n",
       "    .dataframe thead th {\n",
       "        text-align: right;\n",
       "    }\n",
       "</style>\n",
       "<table border=\"1\" class=\"dataframe\">\n",
       "  <thead>\n",
       "    <tr style=\"text-align: right;\">\n",
       "      <th></th>\n",
       "      <th>t-3</th>\n",
       "      <th>t-2</th>\n",
       "      <th>t-1</th>\n",
       "      <th>t</th>\n",
       "      <th>minutes</th>\n",
       "      <th>diff t t-1</th>\n",
       "      <th>diff t t-2</th>\n",
       "      <th>diff t t-3</th>\n",
       "      <th>diff t-1 t-2</th>\n",
       "      <th>diff t-1 t-3</th>\n",
       "      <th>...</th>\n",
       "      <th>diff pente 1-3</th>\n",
       "      <th>diff pentes</th>\n",
       "      <th>diff pente 2-3</th>\n",
       "      <th>GP</th>\n",
       "      <th>covariance</th>\n",
       "      <th>pics</th>\n",
       "      <th>KDFR</th>\n",
       "      <th>probability</th>\n",
       "      <th>distribution</th>\n",
       "      <th>skewness</th>\n",
       "    </tr>\n",
       "  </thead>\n",
       "  <tbody>\n",
       "    <tr>\n",
       "      <th>0</th>\n",
       "      <td>3861826.0</td>\n",
       "      <td>3919113.0</td>\n",
       "      <td>3930969.0</td>\n",
       "      <td>3908951</td>\n",
       "      <td>3</td>\n",
       "      <td>-22018.0</td>\n",
       "      <td>-10162.0</td>\n",
       "      <td>47125.0</td>\n",
       "      <td>11856.0</td>\n",
       "      <td>69143.0</td>\n",
       "      <td>...</td>\n",
       "      <td>3.601826</td>\n",
       "      <td>-2.063357</td>\n",
       "      <td>-3.831899</td>\n",
       "      <td>0.999968</td>\n",
       "      <td>6.882465e+08</td>\n",
       "      <td>1</td>\n",
       "      <td>1.500000</td>\n",
       "      <td>1.941902e-10</td>\n",
       "      <td>0.499963</td>\n",
       "      <td>5.644233e-32</td>\n",
       "    </tr>\n",
       "    <tr>\n",
       "      <th>1</th>\n",
       "      <td>3919113.0</td>\n",
       "      <td>3930969.0</td>\n",
       "      <td>3908951.0</td>\n",
       "      <td>3849858</td>\n",
       "      <td>4</td>\n",
       "      <td>-59093.0</td>\n",
       "      <td>-81111.0</td>\n",
       "      <td>-69255.0</td>\n",
       "      <td>-22018.0</td>\n",
       "      <td>-10162.0</td>\n",
       "      <td>...</td>\n",
       "      <td>1.200633</td>\n",
       "      <td>-0.573232</td>\n",
       "      <td>1.538469</td>\n",
       "      <td>0.999764</td>\n",
       "      <td>9.747410e+08</td>\n",
       "      <td>0</td>\n",
       "      <td>0.021532</td>\n",
       "      <td>1.941902e-10</td>\n",
       "      <td>0.499956</td>\n",
       "      <td>1.162822e-31</td>\n",
       "    </tr>\n",
       "    <tr>\n",
       "      <th>2</th>\n",
       "      <td>3930969.0</td>\n",
       "      <td>3908951.0</td>\n",
       "      <td>3849858.0</td>\n",
       "      <td>3861348</td>\n",
       "      <td>5</td>\n",
       "      <td>11490.0</td>\n",
       "      <td>-47603.0</td>\n",
       "      <td>-69621.0</td>\n",
       "      <td>-59093.0</td>\n",
       "      <td>-81111.0</td>\n",
       "      <td>...</td>\n",
       "      <td>2.916275</td>\n",
       "      <td>3.226719</td>\n",
       "      <td>0.627401</td>\n",
       "      <td>0.999991</td>\n",
       "      <td>1.112557e+09</td>\n",
       "      <td>-1</td>\n",
       "      <td>0.399655</td>\n",
       "      <td>1.941902e-10</td>\n",
       "      <td>0.499969</td>\n",
       "      <td>8.752554e-32</td>\n",
       "    </tr>\n",
       "    <tr>\n",
       "      <th>3</th>\n",
       "      <td>3908951.0</td>\n",
       "      <td>3849858.0</td>\n",
       "      <td>3861348.0</td>\n",
       "      <td>3979121</td>\n",
       "      <td>6</td>\n",
       "      <td>117773.0</td>\n",
       "      <td>129263.0</td>\n",
       "      <td>70170.0</td>\n",
       "      <td>11490.0</td>\n",
       "      <td>-47603.0</td>\n",
       "      <td>...</td>\n",
       "      <td>1.501753</td>\n",
       "      <td>-0.599314</td>\n",
       "      <td>6.142994</td>\n",
       "      <td>0.999124</td>\n",
       "      <td>2.587080e+09</td>\n",
       "      <td>0</td>\n",
       "      <td>0.156679</td>\n",
       "      <td>1.941902e-10</td>\n",
       "      <td>0.499990</td>\n",
       "      <td>6.733439e-31</td>\n",
       "    </tr>\n",
       "    <tr>\n",
       "      <th>4</th>\n",
       "      <td>3849858.0</td>\n",
       "      <td>3861348.0</td>\n",
       "      <td>3979121.0</td>\n",
       "      <td>3979017</td>\n",
       "      <td>7</td>\n",
       "      <td>-104.0</td>\n",
       "      <td>117669.0</td>\n",
       "      <td>129159.0</td>\n",
       "      <td>117773.0</td>\n",
       "      <td>129263.0</td>\n",
       "      <td>...</td>\n",
       "      <td>111.480769</td>\n",
       "      <td>50.000000</td>\n",
       "      <td>0.902439</td>\n",
       "      <td>1.000000</td>\n",
       "      <td>3.827467e+09</td>\n",
       "      <td>1</td>\n",
       "      <td>0.191332</td>\n",
       "      <td>1.941902e-10</td>\n",
       "      <td>0.499967</td>\n",
       "      <td>8.365564e-31</td>\n",
       "    </tr>\n",
       "  </tbody>\n",
       "</table>\n",
       "<p>5 rows × 27 columns</p>\n",
       "</div>"
      ],
      "text/plain": [
       "         t-3        t-2        t-1        t  minutes  diff t t-1  diff t t-2  \\\n",
       "0  3861826.0  3919113.0  3930969.0  3908951        3    -22018.0    -10162.0   \n",
       "1  3919113.0  3930969.0  3908951.0  3849858        4    -59093.0    -81111.0   \n",
       "2  3930969.0  3908951.0  3849858.0  3861348        5     11490.0    -47603.0   \n",
       "3  3908951.0  3849858.0  3861348.0  3979121        6    117773.0    129263.0   \n",
       "4  3849858.0  3861348.0  3979121.0  3979017        7      -104.0    117669.0   \n",
       "\n",
       "   diff t t-3  diff t-1 t-2  diff t-1 t-3      ...       diff pente 1-3  \\\n",
       "0     47125.0       11856.0       69143.0      ...             3.601826   \n",
       "1    -69255.0      -22018.0      -10162.0      ...             1.200633   \n",
       "2    -69621.0      -59093.0      -81111.0      ...             2.916275   \n",
       "3     70170.0       11490.0      -47603.0      ...             1.501753   \n",
       "4    129159.0      117773.0      129263.0      ...           111.480769   \n",
       "\n",
       "   diff pentes  diff pente 2-3        GP    covariance  pics      KDFR  \\\n",
       "0    -2.063357       -3.831899  0.999968  6.882465e+08     1  1.500000   \n",
       "1    -0.573232        1.538469  0.999764  9.747410e+08     0  0.021532   \n",
       "2     3.226719        0.627401  0.999991  1.112557e+09    -1  0.399655   \n",
       "3    -0.599314        6.142994  0.999124  2.587080e+09     0  0.156679   \n",
       "4    50.000000        0.902439  1.000000  3.827467e+09     1  0.191332   \n",
       "\n",
       "    probability  distribution      skewness  \n",
       "0  1.941902e-10      0.499963  5.644233e-32  \n",
       "1  1.941902e-10      0.499956  1.162822e-31  \n",
       "2  1.941902e-10      0.499969  8.752554e-32  \n",
       "3  1.941902e-10      0.499990  6.733439e-31  \n",
       "4  1.941902e-10      0.499967  8.365564e-31  \n",
       "\n",
       "[5 rows x 27 columns]"
      ]
     },
     "execution_count": 21,
     "metadata": {},
     "output_type": "execute_result"
    }
   ],
   "source": [
    "df2 = df2.drop(['label'],axis=1).fillna(1)\n",
    "df2.head()"
   ]
  },
  {
   "cell_type": "code",
   "execution_count": 22,
   "metadata": {},
   "outputs": [],
   "source": [
    "X_test = df2.values"
   ]
  },
  {
   "cell_type": "code",
   "execution_count": 23,
   "metadata": {},
   "outputs": [],
   "source": [
    "def sum_list(a,b):\n",
    "    c = [x+y for x,y in zip(a,b)]\n",
    "    return c\n",
    "res = classifier1.predict_proba(X_test)"
   ]
  },
  {
   "cell_type": "code",
   "execution_count": 24,
   "metadata": {},
   "outputs": [
    {
     "data": {
      "text/plain": [
       "[<matplotlib.lines.Line2D at 0x7f43f4069ba8>]"
      ]
     },
     "execution_count": 24,
     "metadata": {},
     "output_type": "execute_result"
    },
    {
     "data": {
      "image/png": "[encoded data removed]",
      "text/plain": [
       "<Figure size 432x288 with 1 Axes>"
      ]
     },
     "metadata": {},
     "output_type": "display_data"
    }
   ],
   "source": [
    "cl = [ 1 if l[1]>0.05 else 0 for l in res]\n",
    "plt.plot(cl)"
   ]
  },
  {
   "cell_type": "code",
   "execution_count": 25,
   "metadata": {},
   "outputs": [
    {
     "data": {
      "text/plain": [
       "[<matplotlib.lines.Line2D at 0x7f43d409e400>]"
      ]
     },
     "execution_count": 25,
     "metadata": {},
     "output_type": "execute_result"
    },
    {
     "data": {
      "image/png": "[encoded data removed]",
      "text/plain": [
       "<Figure size 432x288 with 1 Axes>"
      ]
     },
     "metadata": {},
     "output_type": "display_data"
    }
   ],
   "source": [
    "plt.plot(abs(y2))"
   ]
  },
  {
   "cell_type": "code",
   "execution_count": 30,
   "metadata": {},
   "outputs": [],
   "source": [
    "import pickle\n",
    "classifier3.clf1.save_model(\"model1\")\n",
    "classifier3.clf2.save_model(\"model2\")\n",
    "pickle.dump(classifier1.clf1, open(\"pima.pickle.dat\", \"wb\"))\n",
    "pickle.dump(classifier1.clf2, open(\"pima2.pickle.dat\", \"wb\"))"
   ]
  },
  {
   "cell_type": "code",
   "execution_count": 27,
   "metadata": {},
   "outputs": [
    {
     "data": {
      "text/html": [
       "<script>requirejs.config({paths: { 'plotly': ['https://cdn.plot.ly/plotly-latest.min']},});if(!window.Plotly) {{require(['plotly'],function(plotly) {window.Plotly=plotly;});}}</script>"
      ],
      "text/vnd.plotly.v1+html": [
       "<script>requirejs.config({paths: { 'plotly': ['https://cdn.plot.ly/plotly-latest.min']},});if(!window.Plotly) {{require(['plotly'],function(plotly) {window.Plotly=plotly;});}}</script>"
      ]
     },
     "metadata": {},
     "output_type": "display_data"
    }
   ],
   "source": [
    "import plotly.offline as py\n",
    "py.init_notebook_mode(connected=True)\n",
    "import plotly.graph_objs as go\n",
    "import plotly.tools as tls\n",
    "\n",
    "def fi(gb,name):\n",
    "    trace = go.Scatter(\n",
    "        y = gb.feature_importances_,\n",
    "        x = features,\n",
    "        mode='markers',\n",
    "        marker=dict(\n",
    "            sizemode = 'diameter',\n",
    "            sizeref = 1,\n",
    "            size = 13,\n",
    "            #size= rf.feature_importances_,\n",
    "            #color = np.random.randn(500), #set color equal to a variable\n",
    "            color = gb.feature_importances_,\n",
    "            colorscale='Portland',\n",
    "            showscale=True\n",
    "        ),\n",
    "        text = features\n",
    "    )\n",
    "    data = [trace]\n",
    "\n",
    "    layout= go.Layout(\n",
    "        autosize= True,\n",
    "        title= name+' Feature Importance',\n",
    "        hovermode= 'closest',\n",
    "         xaxis= dict(\n",
    "             ticklen= 5,\n",
    "             showgrid=False,\n",
    "            zeroline=False,\n",
    "            showline=False\n",
    "         ),\n",
    "        yaxis=dict(\n",
    "            title= 'Feature Importance',\n",
    "            showgrid=False,\n",
    "            zeroline=False,\n",
    "            ticklen= 5,\n",
    "            gridwidth= 2\n",
    "        ),\n",
    "        showlegend= False\n",
    "    )\n",
    "    fig = go.Figure(data=data, layout=layout)\n",
    "    plot(fig, filename='scatter2010')\n",
    "    \n"
   ]
  },
  {
   "cell_type": "code",
   "execution_count": 28,
   "metadata": {},
   "outputs": [
    {
     "name": "stdout",
     "output_type": "stream",
     "text": [
      "----- Training Done -----Printing Score\n",
      "0.989604989605\n"
     ]
    }
   ],
   "source": [
    "from sklearn.ensemble import RandomForestClassifier\n",
    "rf = RandomForestClassifier(n_estimators=150, max_depth=20, min_samples_leaf=2, max_features=27, n_jobs=-1, random_state=0)\n",
    "rf.fit(trainX,[y[0] for y in trainY])\n",
    "features = df.columns.values\n",
    "print(\"----- Training Done -----Printing Score\")\n",
    "print(rf.score(trainX,[y[0] for y in trainY]))\n",
    "# Scatter plot \n",
    "fi(rf,'Random Forest')"
   ]
  },
  {
   "cell_type": "code",
   "execution_count": 29,
   "metadata": {},
   "outputs": [
    {
     "name": "stdout",
     "output_type": "stream",
     "text": [
      "----- Training Done -----Printing Score\n",
      "1.0\n"
     ]
    }
   ],
   "source": [
    "from sklearn.ensemble import GradientBoostingClassifier\n",
    "gb = GradientBoostingClassifier(n_estimators=150, max_depth=20, min_samples_leaf=1, max_features=27, random_state=0)\n",
    "gb.fit(trainX,[y[0] for y in trainY])\n",
    "print(\"----- Training Done -----Printing Score\")\n",
    "print(gb.score(trainX,[y[0] for y in trainY]))\n",
    "fi(gb,'Gradient Boosting Machine')"
   ]
  },
  {
   "cell_type": "code",
   "execution_count": null,
   "metadata": {},
   "outputs": [],
   "source": []
  }
 ],
 "metadata": {
  "kernelspec": {
   "display_name": "Python 3",
   "language": "python",
   "name": "python3"
  },
  "language_info": {
   "codemirror_mode": {
    "name": "ipython",
    "version": 3
   },
   "file_extension": ".py",
   "mimetype": "text/x-python",
   "name": "python",
   "nbconvert_exporter": "python",
   "pygments_lexer": "ipython3",
   "version": "3.6.5"
  }
 },
 "nbformat": 4,
 "nbformat_minor": 2
}
