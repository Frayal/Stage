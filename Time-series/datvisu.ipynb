{
 "cells": [
  {
   "cell_type": "code",
   "execution_count": 1,
   "metadata": {},
   "outputs": [],
   "source": [
    "#################################################\n",
    "#created the 19/04/2018 12:57 by Alexis Blanchet#\n",
    "#################################################\n",
    "import warnings\n",
    "warnings.filterwarnings('ignore')\n",
    "import numpy as np\n",
    "import pandas as pd\n",
    "import matplotlib.pyplot as plt\n",
    "from pandas import Series\n",
    "from pandas import DataFrame\n",
    "from pandas import concat\n",
    "import random\n",
    "import os\n"
   ]
  },
  {
   "cell_type": "code",
   "execution_count": 2,
   "metadata": {},
   "outputs": [],
   "source": [
    "df = pd.read_csv('sfrdaily_20171201_20180103195618_60.csv',sep=';')"
   ]
  },
  {
   "cell_type": "code",
   "execution_count": 3,
   "metadata": {},
   "outputs": [
    {
     "data": {
      "text/html": [
       "<div>\n",
       "<style scoped>\n",
       "    .dataframe tbody tr th:only-of-type {\n",
       "        vertical-align: middle;\n",
       "    }\n",
       "\n",
       "    .dataframe tbody tr th {\n",
       "        vertical-align: top;\n",
       "    }\n",
       "\n",
       "    .dataframe thead th {\n",
       "        text-align: right;\n",
       "    }\n",
       "</style>\n",
       "<table border=\"1\" class=\"dataframe\">\n",
       "  <thead>\n",
       "    <tr style=\"text-align: right;\">\n",
       "      <th></th>\n",
       "      <th>IDCST</th>\n",
       "      <th>DPT</th>\n",
       "      <th>IDCIBLE</th>\n",
       "      <th>1</th>\n",
       "      <th>2</th>\n",
       "      <th>3</th>\n",
       "      <th>4</th>\n",
       "      <th>5</th>\n",
       "      <th>6</th>\n",
       "      <th>7</th>\n",
       "      <th>...</th>\n",
       "      <th>1431</th>\n",
       "      <th>1432</th>\n",
       "      <th>1433</th>\n",
       "      <th>1434</th>\n",
       "      <th>1435</th>\n",
       "      <th>1436</th>\n",
       "      <th>1437</th>\n",
       "      <th>1438</th>\n",
       "      <th>1439</th>\n",
       "      <th>1440</th>\n",
       "    </tr>\n",
       "  </thead>\n",
       "  <tbody>\n",
       "    <tr>\n",
       "      <th>0</th>\n",
       "      <td>192</td>\n",
       "      <td>99</td>\n",
       "      <td>1</td>\n",
       "      <td>197208</td>\n",
       "      <td>197384</td>\n",
       "      <td>199640</td>\n",
       "      <td>206360</td>\n",
       "      <td>207811</td>\n",
       "      <td>205545</td>\n",
       "      <td>205147</td>\n",
       "      <td>...</td>\n",
       "      <td>359269</td>\n",
       "      <td>353724</td>\n",
       "      <td>350598</td>\n",
       "      <td>337250</td>\n",
       "      <td>340802</td>\n",
       "      <td>346253</td>\n",
       "      <td>347155</td>\n",
       "      <td>342388</td>\n",
       "      <td>344689</td>\n",
       "      <td>341451</td>\n",
       "    </tr>\n",
       "    <tr>\n",
       "      <th>1</th>\n",
       "      <td>192</td>\n",
       "      <td>99</td>\n",
       "      <td>2</td>\n",
       "      <td>29947</td>\n",
       "      <td>30088</td>\n",
       "      <td>30088</td>\n",
       "      <td>30241</td>\n",
       "      <td>30573</td>\n",
       "      <td>31072</td>\n",
       "      <td>32759</td>\n",
       "      <td>...</td>\n",
       "      <td>45259</td>\n",
       "      <td>46819</td>\n",
       "      <td>45860</td>\n",
       "      <td>45132</td>\n",
       "      <td>45796</td>\n",
       "      <td>47841</td>\n",
       "      <td>46320</td>\n",
       "      <td>46001</td>\n",
       "      <td>45707</td>\n",
       "      <td>44160</td>\n",
       "    </tr>\n",
       "    <tr>\n",
       "      <th>2</th>\n",
       "      <td>192</td>\n",
       "      <td>99</td>\n",
       "      <td>3</td>\n",
       "      <td>32990</td>\n",
       "      <td>34704</td>\n",
       "      <td>36504</td>\n",
       "      <td>37089</td>\n",
       "      <td>35333</td>\n",
       "      <td>36005</td>\n",
       "      <td>31992</td>\n",
       "      <td>...</td>\n",
       "      <td>38629</td>\n",
       "      <td>39042</td>\n",
       "      <td>36005</td>\n",
       "      <td>34096</td>\n",
       "      <td>35896</td>\n",
       "      <td>36178</td>\n",
       "      <td>37567</td>\n",
       "      <td>34812</td>\n",
       "      <td>34074</td>\n",
       "      <td>34400</td>\n",
       "    </tr>\n",
       "    <tr>\n",
       "      <th>3</th>\n",
       "      <td>192</td>\n",
       "      <td>99</td>\n",
       "      <td>4</td>\n",
       "      <td>17337</td>\n",
       "      <td>18525</td>\n",
       "      <td>17532</td>\n",
       "      <td>17746</td>\n",
       "      <td>17570</td>\n",
       "      <td>17200</td>\n",
       "      <td>18661</td>\n",
       "      <td>...</td>\n",
       "      <td>31245</td>\n",
       "      <td>29862</td>\n",
       "      <td>29999</td>\n",
       "      <td>28771</td>\n",
       "      <td>27525</td>\n",
       "      <td>31849</td>\n",
       "      <td>31051</td>\n",
       "      <td>30408</td>\n",
       "      <td>31206</td>\n",
       "      <td>32940</td>\n",
       "    </tr>\n",
       "    <tr>\n",
       "      <th>4</th>\n",
       "      <td>192</td>\n",
       "      <td>99</td>\n",
       "      <td>5</td>\n",
       "      <td>116933</td>\n",
       "      <td>114066</td>\n",
       "      <td>115516</td>\n",
       "      <td>121283</td>\n",
       "      <td>124333</td>\n",
       "      <td>121266</td>\n",
       "      <td>121733</td>\n",
       "      <td>...</td>\n",
       "      <td>244133</td>\n",
       "      <td>238000</td>\n",
       "      <td>238733</td>\n",
       "      <td>229250</td>\n",
       "      <td>231583</td>\n",
       "      <td>230383</td>\n",
       "      <td>232216</td>\n",
       "      <td>231166</td>\n",
       "      <td>233700</td>\n",
       "      <td>229950</td>\n",
       "    </tr>\n",
       "  </tbody>\n",
       "</table>\n",
       "<p>5 rows × 1443 columns</p>\n",
       "</div>"
      ],
      "text/plain": [
       "   IDCST  DPT  IDCIBLE       1       2       3       4       5       6  \\\n",
       "0    192   99        1  197208  197384  199640  206360  207811  205545   \n",
       "1    192   99        2   29947   30088   30088   30241   30573   31072   \n",
       "2    192   99        3   32990   34704   36504   37089   35333   36005   \n",
       "3    192   99        4   17337   18525   17532   17746   17570   17200   \n",
       "4    192   99        5  116933  114066  115516  121283  124333  121266   \n",
       "\n",
       "        7   ...      1431    1432    1433    1434    1435    1436    1437  \\\n",
       "0  205147   ...    359269  353724  350598  337250  340802  346253  347155   \n",
       "1   32759   ...     45259   46819   45860   45132   45796   47841   46320   \n",
       "2   31992   ...     38629   39042   36005   34096   35896   36178   37567   \n",
       "3   18661   ...     31245   29862   29999   28771   27525   31849   31051   \n",
       "4  121733   ...    244133  238000  238733  229250  231583  230383  232216   \n",
       "\n",
       "     1438    1439    1440  \n",
       "0  342388  344689  341451  \n",
       "1   46001   45707   44160  \n",
       "2   34812   34074   34400  \n",
       "3   30408   31206   32940  \n",
       "4  231166  233700  229950  \n",
       "\n",
       "[5 rows x 1443 columns]"
      ]
     },
     "execution_count": 3,
     "metadata": {},
     "output_type": "execute_result"
    }
   ],
   "source": [
    "df.head()"
   ]
  },
  {
   "cell_type": "code",
   "execution_count": 4,
   "metadata": {},
   "outputs": [
    {
     "data": {
      "text/plain": [
       "(136068, 1443)"
      ]
     },
     "execution_count": 4,
     "metadata": {},
     "output_type": "execute_result"
    }
   ],
   "source": [
    "df.shape"
   ]
  },
  {
   "cell_type": "code",
   "execution_count": 5,
   "metadata": {},
   "outputs": [
    {
     "data": {
      "text/plain": [
       "(5, 1443)"
      ]
     },
     "execution_count": 5,
     "metadata": {},
     "output_type": "execute_result"
    }
   ],
   "source": [
    "df2 = df.loc[df[\"IDCST\"]== 192]\n",
    "df2 = df2.loc[df2[\"DPT\"]== 0]\n",
    "df2.shape"
   ]
  },
  {
   "cell_type": "code",
   "execution_count": 6,
   "metadata": {},
   "outputs": [],
   "source": [
    "df2 = df.sum(axis = 0)/100"
   ]
  },
  {
   "cell_type": "code",
   "execution_count": 7,
   "metadata": {},
   "outputs": [
    {
     "data": {
      "text/plain": [
       "(1443,)"
      ]
     },
     "execution_count": 7,
     "metadata": {},
     "output_type": "execute_result"
    }
   ],
   "source": [
    "df2.shape"
   ]
  },
  {
   "cell_type": "code",
   "execution_count": 8,
   "metadata": {},
   "outputs": [],
   "source": [
    "df2 = df2.drop([\"IDCST\",\"DPT\",\"IDCIBLE\"])"
   ]
  },
  {
   "cell_type": "code",
   "execution_count": 9,
   "metadata": {},
   "outputs": [],
   "source": [
    "df2.to_csv(\"clean_data_test.csv\",header=['values'])"
   ]
  },
  {
   "cell_type": "code",
   "execution_count": null,
   "metadata": {},
   "outputs": [],
   "source": []
  },
  {
   "cell_type": "code",
   "execution_count": 13,
   "metadata": {},
   "outputs": [
    {
     "name": "stderr",
     "output_type": "stream",
     "text": [
      "/home/alexis/anaconda3/lib/python3.6/site-packages/ipykernel_launcher.py:5: RankWarning: Polyfit may be poorly conditioned\n",
      "  \"\"\"\n",
      "/home/alexis/anaconda3/lib/python3.6/site-packages/ipykernel_launcher.py:6: RankWarning: Polyfit may be poorly conditioned\n",
      "  \n"
     ]
    },
    {
     "data": {
      "image/png": "[encoded data removed]",
      "text/plain": [
       "<Figure size 1800x1080 with 1 Axes>"
      ]
     },
     "metadata": {},
     "output_type": "display_data"
    }
   ],
   "source": [
    "import matplotlib\n",
    "y = df2.values\n",
    "x = [i/60 for i in range(len(y))]\n",
    "xp = np.linspace(-0.1,24.1,100)\n",
    "p  = np.poly1d(np.polyfit(x, y, 20))\n",
    "p50  = np.poly1d(np.polyfit(x, y, 50))\n",
    "plt.figure(figsize=(25,15))\n",
    "_ = plt.plot(x, y)#, '.', xp, p(xp), '-', xp, p50(xp), '--')\n",
    "plt.savefig('test.png')\n",
    "plt.show()\n"
   ]
  },
  {
   "cell_type": "code",
   "execution_count": 71,
   "metadata": {},
   "outputs": [
    {
     "data": {
      "text/plain": [
       "'file:///home/alexis/Bureau/Project/datas/time series/temp-plot.html'"
      ]
     },
     "execution_count": 71,
     "metadata": {},
     "output_type": "execute_result"
    }
   ],
   "source": [
    "import plotly.offline as offline\n",
    "import plotly.graph_objs as go\n",
    "\n",
    "offline.plot({'data': [{'y': x,'x':[i/60 for i in range(len(x))]}], \n",
    "               'layout': {'title': 'Test Plot', \n",
    "                          'font': dict(size=16)}},\n",
    "             image='png')"
   ]
  },
  {
   "cell_type": "code",
   "execution_count": null,
   "metadata": {},
   "outputs": [],
   "source": []
  }
 ],
 "metadata": {
  "kernelspec": {
   "display_name": "Python 3",
   "language": "python",
   "name": "python3"
  },
  "language_info": {
   "codemirror_mode": {
    "name": "ipython",
    "version": 3
   },
   "file_extension": ".py",
   "mimetype": "text/x-python",
   "name": "python",
   "nbconvert_exporter": "python",
   "pygments_lexer": "ipython3",
   "version": "3.6.5"
  }
 },
 "nbformat": 4,
 "nbformat_minor": 2
}
