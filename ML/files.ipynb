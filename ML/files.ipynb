{
 "cells": [
  {
   "cell_type": "code",
   "execution_count": 10,
   "metadata": {},
   "outputs": [],
   "source": [
    "import pandas as pd\n",
    "import numpy as np"
   ]
  },
  {
   "cell_type": "code",
   "execution_count": 11,
   "metadata": {},
   "outputs": [],
   "source": [
    "fileX_test ='/home/alexis/Bureau/Stage/Time-series/data/processed/sfrdaily_20180518_0_192_0_cleandata-processed.csv'\n",
    "fileY_test = '/home/alexis/Bureau/historique/label-18-05.csv'\n",
    "\n",
    "fileX_train ='/home/alexis/Bureau/Stage/Time-series/data/processed/sfrdaily_20180507_0_192_0_cleandata-processed.csv'\n",
    "fileY_train = '/home/alexis/Bureau/historique/label-07-05.csv'\n",
    "\n",
    "fileX_valid ='/home/alexis/Bureau/Stage/Time-series/data/processed/sfrdaily_20180509_0_192_0_cleandata-processed.csv'\n",
    "fileY_valid = '/home/alexis/Bureau/historique/label-09-05.csv'"
   ]
  },
  {
   "cell_type": "code",
   "execution_count": 12,
   "metadata": {},
   "outputs": [],
   "source": [
    "data = pd.DataFrame()\n"
   ]
  },
  {
   "cell_type": "code",
   "execution_count": 13,
   "metadata": {},
   "outputs": [],
   "source": [
    "data['fileX_train'] = [fileX_train]\n",
    "data['fileY_train'] = fileY_train\n",
    "\n",
    "data['fileX_valid'] = fileX_valid\n",
    "data['fileY_valid'] = fileY_valid\n",
    "\n",
    "data['fileX_test'] = fileX_test\n",
    "data['fileY_test'] = fileY_test"
   ]
  },
  {
   "cell_type": "code",
   "execution_count": 14,
   "metadata": {},
   "outputs": [],
   "source": [
    "data.to_csv('files.csv',index=False)"
   ]
  },
  {
   "cell_type": "code",
   "execution_count": null,
   "metadata": {},
   "outputs": [],
   "source": []
  }
 ],
 "metadata": {
  "kernelspec": {
   "display_name": "Python 3",
   "language": "python",
   "name": "python3"
  },
  "language_info": {
   "codemirror_mode": {
    "name": "ipython",
    "version": 3
   },
   "file_extension": ".py",
   "mimetype": "text/x-python",
   "name": "python",
   "nbconvert_exporter": "python",
   "pygments_lexer": "ipython3",
   "version": "3.6.5"
  }
 },
 "nbformat": 4,
 "nbformat_minor": 2
}
