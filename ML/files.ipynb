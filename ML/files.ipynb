{
 "cells": [
  {
   "cell_type": "code",
   "execution_count": 1,
   "metadata": {},
   "outputs": [],
   "source": [
    "import pandas as pd\n",
    "import numpy as np\n",
    "from random import shuffle\n"
   ]
  },
  {
   "cell_type": "code",
   "execution_count": 2,
   "metadata": {},
   "outputs": [],
   "source": [
    "Dates = ['30-04','07-05','09-05','18-05','23-05','28-05','06-06']"
   ]
  },
  {
   "cell_type": "code",
   "execution_count": 3,
   "metadata": {},
   "outputs": [],
   "source": [
    "def make_names(date):\n",
    "    d = str((date.split('-'))[1])+str((date.split('-'))[0])\n",
    "    X = '/home/alexis/Bureau/Stage/Time-series/data/processed/sfrdaily_2018'+d+'_0_192_0_cleandata-processed.csv'\n",
    "    y = '/home/alexis/Bureau/historique/label-'+date+'.csv'\n",
    "    return X,y\n",
    "\n",
    "\n",
    "def make_dataframe(dates,train = len(Dates)-2,valid=1,test=1):\n",
    "    shuffle(dates)\n",
    "    data = pd.DataFrame()\n",
    "    fileX_test = []\n",
    "    fileY_test = []\n",
    "    fileX_train = []\n",
    "    fileY_train = []\n",
    "    fileX_valid = []\n",
    "    fileY_valid = []\n",
    "    \n",
    "    j = 0\n",
    "    for i in range(train):\n",
    "        X,y = make_names(dates[j])\n",
    "        fileX_train.append(X)\n",
    "        fileY_train.append(y)\n",
    "        j+=1\n",
    "    for i in range(valid):\n",
    "        X,y = make_names(dates[j])\n",
    "        fileX_valid.append(X)\n",
    "        fileY_valid.append(y)\n",
    "        j+=1\n",
    "    for i in range(test):\n",
    "        X,y = make_names(dates[j])\n",
    "        fileX_test.append(X)\n",
    "        fileY_test.append(y)\n",
    "        j+=1\n",
    "    \n",
    "    data['fileX_train'] = [fileX_train]\n",
    "    data['fileY_train'] = [fileY_train]\n",
    "\n",
    "    data['fileX_valid'] = [fileX_valid]\n",
    "    data['fileY_valid'] = [fileY_valid]\n",
    "\n",
    "    data['fileX_test'] = [fileX_test]\n",
    "    data['fileY_test'] = [fileY_test]\n",
    "    \n",
    "    data.to_csv('files.csv',index=False)\n",
    "    \n",
    "    return data\n",
    "    "
   ]
  },
  {
   "cell_type": "code",
   "execution_count": 4,
   "metadata": {},
   "outputs": [
    {
     "data": {
      "text/html": [
       "<div>\n",
       "<style scoped>\n",
       "    .dataframe tbody tr th:only-of-type {\n",
       "        vertical-align: middle;\n",
       "    }\n",
       "\n",
       "    .dataframe tbody tr th {\n",
       "        vertical-align: top;\n",
       "    }\n",
       "\n",
       "    .dataframe thead th {\n",
       "        text-align: right;\n",
       "    }\n",
       "</style>\n",
       "<table border=\"1\" class=\"dataframe\">\n",
       "  <thead>\n",
       "    <tr style=\"text-align: right;\">\n",
       "      <th></th>\n",
       "      <th>fileX_train</th>\n",
       "      <th>fileY_train</th>\n",
       "      <th>fileX_valid</th>\n",
       "      <th>fileY_valid</th>\n",
       "      <th>fileX_test</th>\n",
       "      <th>fileY_test</th>\n",
       "    </tr>\n",
       "  </thead>\n",
       "  <tbody>\n",
       "    <tr>\n",
       "      <th>0</th>\n",
       "      <td>[/home/alexis/Bureau/Stage/Time-series/data/pr...</td>\n",
       "      <td>[/home/alexis/Bureau/historique/label-28-05.cs...</td>\n",
       "      <td>[/home/alexis/Bureau/Stage/Time-series/data/pr...</td>\n",
       "      <td>[/home/alexis/Bureau/historique/label-30-04.csv]</td>\n",
       "      <td>[/home/alexis/Bureau/Stage/Time-series/data/pr...</td>\n",
       "      <td>[/home/alexis/Bureau/historique/label-07-05.csv]</td>\n",
       "    </tr>\n",
       "  </tbody>\n",
       "</table>\n",
       "</div>"
      ],
      "text/plain": [
       "                                         fileX_train  \\\n",
       "0  [/home/alexis/Bureau/Stage/Time-series/data/pr...   \n",
       "\n",
       "                                         fileY_train  \\\n",
       "0  [/home/alexis/Bureau/historique/label-28-05.cs...   \n",
       "\n",
       "                                         fileX_valid  \\\n",
       "0  [/home/alexis/Bureau/Stage/Time-series/data/pr...   \n",
       "\n",
       "                                        fileY_valid  \\\n",
       "0  [/home/alexis/Bureau/historique/label-30-04.csv]   \n",
       "\n",
       "                                          fileX_test  \\\n",
       "0  [/home/alexis/Bureau/Stage/Time-series/data/pr...   \n",
       "\n",
       "                                         fileY_test  \n",
       "0  [/home/alexis/Bureau/historique/label-07-05.csv]  "
      ]
     },
     "execution_count": 4,
     "metadata": {},
     "output_type": "execute_result"
    }
   ],
   "source": [
    "make_dataframe(Dates)"
   ]
  },
  {
   "cell_type": "code",
   "execution_count": null,
   "metadata": {},
   "outputs": [],
   "source": []
  }
 ],
 "metadata": {
  "kernelspec": {
   "display_name": "Python 3",
   "language": "python",
   "name": "python3"
  },
  "language_info": {
   "codemirror_mode": {
    "name": "ipython",
    "version": 3
   },
   "file_extension": ".py",
   "mimetype": "text/x-python",
   "name": "python",
   "nbconvert_exporter": "python",
   "pygments_lexer": "ipython3",
   "version": "3.6.5"
  }
 },
 "nbformat": 4,
 "nbformat_minor": 2
}
