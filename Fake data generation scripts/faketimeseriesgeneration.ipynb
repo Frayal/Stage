{
 "cells": [
  {
   "cell_type": "code",
   "execution_count": 1,
   "metadata": {},
   "outputs": [],
   "source": [
    "#################################################\n",
    "#created the 18/04/2018 12:30 by Alexis Blanchet#\n",
    "#################################################"
   ]
  },
  {
   "cell_type": "code",
   "execution_count": 2,
   "metadata": {},
   "outputs": [],
   "source": [
    "import warnings\n",
    "warnings.filterwarnings('ignore')"
   ]
  },
  {
   "cell_type": "code",
   "execution_count": 3,
   "metadata": {},
   "outputs": [],
   "source": [
    "import numpy as np\n",
    "import pandas as pd\n",
    "import matplotlib.pyplot as plt\n",
    "import random\n",
    "import os"
   ]
  },
  {
   "cell_type": "code",
   "execution_count": 4,
   "metadata": {},
   "outputs": [],
   "source": [
    "def programme_audiance(l,labels,time,sd=.09):\n",
    "    for i in range(time-1):\n",
    "        l.append(abs(np.random.normal(l[-1],sd)))\n",
    "        labels.append(0)\n",
    "    return l,labels\n",
    "\n",
    "\n",
    "def pub_gap(l,labels,time,sd=.09,start=True):\n",
    "    if(start==True):\n",
    "        for i in range(time-1):\n",
    "            l.append(abs(np.random.normal(l[-1]*0.99,sd)))\n",
    "            labels.append(1)\n",
    "    if(start==False):\n",
    "        for i in range(time-1):\n",
    "            l.append(abs(np.random.normal(l[-1]*(1.01),sd)))\n",
    "            labels.append(2)\n",
    "    \n",
    "    return l,labels\n",
    "\n",
    "def pub_audience(l,labels,time,sd=.05):\n",
    "    for i in range(time-1):\n",
    "        l.append(abs(np.random.normal(l[-1]*0.999999,sd)))\n",
    "        labels.append(0)\n",
    "    return l,labels\n",
    "\n"
   ]
  },
  {
   "cell_type": "code",
   "execution_count": 5,
   "metadata": {},
   "outputs": [],
   "source": [
    "x0 = 50000\n",
    "time_programme = 6000\n",
    "time_pub = 600\n",
    "time_gap = 15"
   ]
  },
  {
   "cell_type": "code",
   "execution_count": 17,
   "metadata": {},
   "outputs": [],
   "source": [
    "def time_serie_generation(x0,n):\n",
    "        l = [x0]\n",
    "        labels = [0]\n",
    "        l,labels = programme_audiance(l,labels,time_programme)\n",
    "        for i in range(n):\n",
    "            print(\"construction d'une pub\")\n",
    "            print(\"nombre de personnes avant la fin du programme: \"+str(l[-1]))\n",
    "            l,labels = pub_gap(l,labels,time_gap)\n",
    "            print(\"nombre de personnes avant la début de la pub: \"+str(l[-1]))\n",
    "            l,labels = pub_audience(l,labels,time_pub)\n",
    "            print(\"nombre de personnes avant la fin de la pub: \"+str(l[-1]))\n",
    "            l,labels = pub_gap(l,labels,time_gap,start=False)\n",
    "            print(\"nombre de personnes avant le début du programme: \"+str(l[-1]))\n",
    "            l,labels = programme_audiance(l,labels,time_programme)\n",
    "        \n",
    "        return l,labels\n"
   ]
  },
  {
   "cell_type": "code",
   "execution_count": 18,
   "metadata": {},
   "outputs": [
    {
     "name": "stdout",
     "output_type": "stream",
     "text": [
      "construction d'une pub\n",
      "nombre de personnes avant la fin du programme: 51.25085436913727\n",
      "nombre de personnes avant la début de la pub: 21751947752915.688\n",
      "nombre de personnes avant la fin de la pub: 6821255862893406.0\n",
      "nombre de personnes avant le début du programme: 8083708863242169.0\n",
      "construction d'une pub\n",
      "nombre de personnes avant la fin du programme: 8083708863242169.0\n",
      "nombre de personnes avant la début de la pub: 7489945954081026.0\n",
      "nombre de personnes avant la fin de la pub: 1.2145018813548474e+16\n",
      "nombre de personnes avant le début du programme: 1.2728174164589764e+16\n",
      "construction d'une pub\n",
      "nombre de personnes avant la fin du programme: 1.2728174164589764e+16\n",
      "nombre de personnes avant la début de la pub: 1.1292296648805462e+16\n",
      "nombre de personnes avant la fin de la pub: 1.0834109663719494e+16\n",
      "nombre de personnes avant le début du programme: 1.3553417724620016e+16\n",
      "construction d'une pub\n",
      "nombre de personnes avant la fin du programme: 1.3553417724620016e+16\n",
      "nombre de personnes avant la début de la pub: 1.1914473624238772e+16\n",
      "nombre de personnes avant la fin de la pub: 2539909385249080.5\n",
      "nombre de personnes avant le début du programme: 1739856674663417.2\n",
      "construction d'une pub\n",
      "nombre de personnes avant la fin du programme: 1739856674663415.0\n",
      "nombre de personnes avant la début de la pub: 2133478891600402.2\n",
      "nombre de personnes avant la fin de la pub: 5280205164088449.0\n",
      "nombre de personnes avant le début du programme: 7334046726891843.0\n",
      "construction d'une pub\n",
      "nombre de personnes avant la fin du programme: 7334046726891843.0\n",
      "nombre de personnes avant la début de la pub: 7306953418457548.0\n",
      "nombre de personnes avant la fin de la pub: 1.311547940819287e+16\n",
      "nombre de personnes avant le début du programme: 1.5119843055357124e+16\n",
      "construction d'une pub\n",
      "nombre de personnes avant la fin du programme: 1.5119843055357124e+16\n",
      "nombre de personnes avant la début de la pub: 1.3057282024687168e+16\n",
      "nombre de personnes avant la fin de la pub: 1985911013189786.0\n",
      "nombre de personnes avant le début du programme: 2685444277732030.5\n",
      "construction d'une pub\n",
      "nombre de personnes avant la fin du programme: 2685444277732033.5\n",
      "nombre de personnes avant la début de la pub: 1945175602385862.8\n",
      "nombre de personnes avant la fin de la pub: 936323927953233.2\n",
      "nombre de personnes avant le début du programme: 74783367414306.94\n",
      "construction d'une pub\n",
      "nombre de personnes avant la fin du programme: 74783367414300.56\n",
      "nombre de personnes avant la début de la pub: 1092836161444318.5\n",
      "nombre de personnes avant la fin de la pub: 138962454652523.39\n",
      "nombre de personnes avant le début du programme: 395649576474122.94\n",
      "construction d'une pub\n",
      "nombre de personnes avant la fin du programme: 395649576474127.56\n",
      "nombre de personnes avant la début de la pub: 279861874799332.38\n",
      "nombre de personnes avant la fin de la pub: 4011182503392034.0\n",
      "nombre de personnes avant le début du programme: 3812322692836140.5\n",
      "construction d'une pub\n",
      "nombre de personnes avant la fin du programme: 3812322692836137.5\n",
      "nombre de personnes avant la début de la pub: 1385227349059215.8\n",
      "nombre de personnes avant la fin de la pub: 4644998070680355.0\n",
      "nombre de personnes avant le début du programme: 4809918416174511.0\n",
      "construction d'une pub\n",
      "nombre de personnes avant la fin du programme: 4809918416174511.0\n",
      "nombre de personnes avant la début de la pub: 4849758782949312.0\n",
      "nombre de personnes avant la fin de la pub: 1.1642187768604062e+16\n",
      "nombre de personnes avant le début du programme: 1.334036234715461e+16\n",
      "construction d'une pub\n",
      "nombre de personnes avant la fin du programme: 1.334036234715461e+16\n",
      "nombre de personnes avant la début de la pub: 9713508407004832.0\n",
      "nombre de personnes avant la fin de la pub: 8855954712317241.0\n",
      "nombre de personnes avant le début du programme: 1.0285098889222752e+16\n",
      "construction d'une pub\n",
      "nombre de personnes avant la fin du programme: 1.0285098889222752e+16\n",
      "nombre de personnes avant la début de la pub: 8682833011754757.0\n",
      "nombre de personnes avant la fin de la pub: 1.6348622019410668e+16\n",
      "nombre de personnes avant le début du programme: 1.92840355052444e+16\n",
      "construction d'une pub\n",
      "nombre de personnes avant la fin du programme: 1.92840355052444e+16\n",
      "nombre de personnes avant la début de la pub: 1.5756383164278782e+16\n",
      "nombre de personnes avant la fin de la pub: 1.3170770002774056e+16\n",
      "nombre de personnes avant le début du programme: 1.5578518198472308e+16\n"
     ]
    },
    {
     "data": {
      "text/plain": [
       "[<matplotlib.lines.Line2D at 0x7f362c231048>]"
      ]
     },
     "execution_count": 18,
     "metadata": {},
     "output_type": "execute_result"
    },
    {
     "data": {
      "image/png": "[encoded data removed]",
      "text/plain": [
       "<matplotlib.figure.Figure at 0x7f362bfc3588>"
      ]
     },
     "metadata": {},
     "output_type": "display_data"
    }
   ],
   "source": [
    "list,labels=time_serie_generation(x0,15)\n",
    "plt.plot(list)"
   ]
  },
  {
   "cell_type": "code",
   "execution_count": 13,
   "metadata": {},
   "outputs": [
    {
     "name": "stdout",
     "output_type": "stream",
     "text": [
      "105390\n",
      "105390\n"
     ]
    }
   ],
   "source": [
    "print(len(list))\n",
    "print(len(labels))"
   ]
  },
  {
   "cell_type": "code",
   "execution_count": 14,
   "metadata": {},
   "outputs": [],
   "source": [
    "t = open('/home/alexis/Bureau/stage/Time-series/ake-time-series.txt', 'w',os.O_NONBLOCK)\n",
    "for item in list:\n",
    "  t.write(\"%s\\n\" % item)\n"
   ]
  },
  {
   "cell_type": "code",
   "execution_count": 16,
   "metadata": {},
   "outputs": [],
   "source": [
    "l = open('/home/alexis/Bureau/stage/Time-series/fake-time-series-labels.txt', 'w',os.O_NONBLOCK)\n",
    "for item in labels:\n",
    "  l.write(\"%s\\n\" % item)"
   ]
  },
  {
   "cell_type": "code",
   "execution_count": null,
   "metadata": {},
   "outputs": [],
   "source": []
  }
 ],
 "metadata": {
  "kernelspec": {
   "display_name": "Python 3",
   "language": "python",
   "name": "python3"
  },
  "language_info": {
   "codemirror_mode": {
    "name": "ipython",
    "version": 3
   },
   "file_extension": ".py",
   "mimetype": "text/x-python",
   "name": "python",
   "nbconvert_exporter": "python",
   "pygments_lexer": "ipython3",
   "version": "3.6.4"
  }
 },
 "nbformat": 4,
 "nbformat_minor": 2
}
