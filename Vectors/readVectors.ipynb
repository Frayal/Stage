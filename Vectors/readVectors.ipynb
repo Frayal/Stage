{
 "cells": [
  {
   "cell_type": "code",
   "execution_count": 1,
   "metadata": {},
   "outputs": [],
   "source": [
    "#################################################\n",
    "#created the 23/04/2018 12:57 by Alexis Blanchet#\n",
    "#################################################\n",
    "\n",
    "\n",
    "import warnings\n",
    "warnings.filterwarnings('ignore')\n",
    "import numpy as np\n",
    "import pandas as pd\n",
    "import matplotlib.pyplot as plt\n",
    "import random\n",
    "import os\n",
    "import scipy.stats\n",
    "import matplotlib\n",
    "import plotly.offline as offline\n",
    "import plotly.graph_objs as go\n",
    "import datetime"
   ]
  },
  {
   "cell_type": "code",
   "execution_count": 6,
   "metadata": {},
   "outputs": [],
   "source": [
    "def get_info(file):\n",
    "    pd.read_csv(file)\n",
    "    date = list(file.split('-')[1])\n",
    "    year = ''.join((date[0],date[1],date[2],date[3]))\n",
    "    month = ''.join((date[4],date[5]))\n",
    "    day = ''.join((date[6],date[7]))\n",
    "    heure = ''.join((date[8],date[9]))\n",
    "    minutes = ''.join((date[10],date[11]))\n",
    "    return([year,month,day,heure,minutes])"
   ]
  },
  {
   "cell_type": "code",
   "execution_count": 7,
   "metadata": {},
   "outputs": [
    {
     "data": {
      "text/plain": [
       "['2018', '04', '17', '00', '14']"
      ]
     },
     "execution_count": 7,
     "metadata": {},
     "output_type": "execute_result"
    }
   ],
   "source": [
    "get_info('odVect.csv-20180417001400')"
   ]
  },
  {
   "cell_type": "code",
   "execution_count": 58,
   "metadata": {},
   "outputs": [],
   "source": [
    "def load_file(file,chaine):\n",
    "    l = get_info(file)\n",
    "    df = pd.read_csv(file,sep=';')\n",
    "    df = df.rename(index=str, columns={\"Unnamed: 0\": \"tf\", df.columns.values[1]: \"count\"})\n",
    "    print(date)\n",
    "    df[\"chaine d'origine\"]=df['tf'].apply(get_origin)\n",
    "    df[\"chaine d'arrivée\"]=df['tf'].apply(get_destination)\n",
    "    df[\"date\"] = date\n",
    "    gain = df[df[\"chaine d'arrivée\"]==int(chaine)]['count'].sum()\n",
    "    loss = df[df[\"chaine d'origine\"]==int(chaine)]['count'].sum()\n",
    "    temp_df = pd.DataFrame()\n",
    "    temp_df['année'] = [l[0]]\n",
    "    temp_df['mois'] = l[1]\n",
    "    temp_df['jour'] = l[2]\n",
    "    temp_df['heure'] = l[3]\n",
    "    temp_df['minute'] = l[4]\n",
    "    temp_df['loss'] = loss\n",
    "    temp_df['gain'] = gain\n",
    "    \n",
    "    return temp_df\n",
    "\n",
    "\n",
    "def get_origin(x):\n",
    "    x = int(x) & ((1<<24)-1)\n",
    "    return x\n",
    "\n",
    "def get_destination(x):\n",
    "    x = int(x)>>24 & ((1<<24)-1)\n",
    "    return x"
   ]
  },
  {
   "cell_type": "code",
   "execution_count": 59,
   "metadata": {},
   "outputs": [
    {
     "name": "stdout",
     "output_type": "stream",
     "text": [
      "Index(['Unnamed: 0', '1523967240'], dtype='object')\n",
      "2018-04-17 14:14:00\n"
     ]
    }
   ],
   "source": [
    "df = load_file('odVect.csv-20180417141400',192)"
   ]
  },
  {
   "cell_type": "code",
   "execution_count": 60,
   "metadata": {},
   "outputs": [
    {
     "data": {
      "text/html": [
       "<div>\n",
       "<style scoped>\n",
       "    .dataframe tbody tr th:only-of-type {\n",
       "        vertical-align: middle;\n",
       "    }\n",
       "\n",
       "    .dataframe tbody tr th {\n",
       "        vertical-align: top;\n",
       "    }\n",
       "\n",
       "    .dataframe thead th {\n",
       "        text-align: right;\n",
       "    }\n",
       "</style>\n",
       "<table border=\"1\" class=\"dataframe\">\n",
       "  <thead>\n",
       "    <tr style=\"text-align: right;\">\n",
       "      <th></th>\n",
       "      <th>année</th>\n",
       "      <th>mois</th>\n",
       "      <th>jour</th>\n",
       "      <th>heure</th>\n",
       "      <th>minute</th>\n",
       "      <th>loss</th>\n",
       "      <th>gain</th>\n",
       "    </tr>\n",
       "  </thead>\n",
       "  <tbody>\n",
       "    <tr>\n",
       "      <th>0</th>\n",
       "      <td>2018</td>\n",
       "      <td>04</td>\n",
       "      <td>17</td>\n",
       "      <td>14</td>\n",
       "      <td>14</td>\n",
       "      <td>2613</td>\n",
       "      <td>1816</td>\n",
       "    </tr>\n",
       "  </tbody>\n",
       "</table>\n",
       "</div>"
      ],
      "text/plain": [
       "  année mois jour heure minute  loss  gain\n",
       "0  2018   04   17    14     14  2613  1816"
      ]
     },
     "execution_count": 60,
     "metadata": {},
     "output_type": "execute_result"
    }
   ],
   "source": [
    "df"
   ]
  },
  {
   "cell_type": "code",
   "execution_count": 89,
   "metadata": {},
   "outputs": [],
   "source": [
    "loss = pd.read_csv('loss.csv').drop(['Unnamed: 0'],axis = 1)\n",
    "gain = pd.read_csv('gain.csv').drop(['Unnamed: 0'],axis = 1)"
   ]
  },
  {
   "cell_type": "code",
   "execution_count": 90,
   "metadata": {},
   "outputs": [
    {
     "data": {
      "text/html": [
       "<div>\n",
       "<style scoped>\n",
       "    .dataframe tbody tr th:only-of-type {\n",
       "        vertical-align: middle;\n",
       "    }\n",
       "\n",
       "    .dataframe tbody tr th {\n",
       "        vertical-align: top;\n",
       "    }\n",
       "\n",
       "    .dataframe thead th {\n",
       "        text-align: right;\n",
       "    }\n",
       "</style>\n",
       "<table border=\"1\" class=\"dataframe\">\n",
       "  <thead>\n",
       "    <tr style=\"text-align: right;\">\n",
       "      <th></th>\n",
       "      <th>année</th>\n",
       "      <th>mois</th>\n",
       "      <th>jour</th>\n",
       "      <th>heure</th>\n",
       "      <th>minute</th>\n",
       "      <th>loss</th>\n",
       "    </tr>\n",
       "  </thead>\n",
       "  <tbody>\n",
       "    <tr>\n",
       "      <th>count</th>\n",
       "      <td>11431.0</td>\n",
       "      <td>11431.0</td>\n",
       "      <td>11431.000000</td>\n",
       "      <td>11431.000000</td>\n",
       "      <td>11431.000000</td>\n",
       "      <td>11431.00000</td>\n",
       "    </tr>\n",
       "    <tr>\n",
       "      <th>mean</th>\n",
       "      <td>2018.0</td>\n",
       "      <td>4.0</td>\n",
       "      <td>20.116525</td>\n",
       "      <td>11.476861</td>\n",
       "      <td>29.535736</td>\n",
       "      <td>2802.11985</td>\n",
       "    </tr>\n",
       "    <tr>\n",
       "      <th>std</th>\n",
       "      <td>0.0</td>\n",
       "      <td>0.0</td>\n",
       "      <td>2.324896</td>\n",
       "      <td>6.945089</td>\n",
       "      <td>17.320597</td>\n",
       "      <td>3632.25416</td>\n",
       "    </tr>\n",
       "    <tr>\n",
       "      <th>min</th>\n",
       "      <td>2018.0</td>\n",
       "      <td>4.0</td>\n",
       "      <td>16.000000</td>\n",
       "      <td>0.000000</td>\n",
       "      <td>0.000000</td>\n",
       "      <td>0.00000</td>\n",
       "    </tr>\n",
       "    <tr>\n",
       "      <th>25%</th>\n",
       "      <td>2018.0</td>\n",
       "      <td>4.0</td>\n",
       "      <td>18.000000</td>\n",
       "      <td>5.000000</td>\n",
       "      <td>15.000000</td>\n",
       "      <td>836.00000</td>\n",
       "    </tr>\n",
       "    <tr>\n",
       "      <th>50%</th>\n",
       "      <td>2018.0</td>\n",
       "      <td>4.0</td>\n",
       "      <td>20.000000</td>\n",
       "      <td>11.000000</td>\n",
       "      <td>30.000000</td>\n",
       "      <td>1776.00000</td>\n",
       "    </tr>\n",
       "    <tr>\n",
       "      <th>75%</th>\n",
       "      <td>2018.0</td>\n",
       "      <td>4.0</td>\n",
       "      <td>22.000000</td>\n",
       "      <td>18.000000</td>\n",
       "      <td>45.000000</td>\n",
       "      <td>3458.00000</td>\n",
       "    </tr>\n",
       "    <tr>\n",
       "      <th>max</th>\n",
       "      <td>2018.0</td>\n",
       "      <td>4.0</td>\n",
       "      <td>24.000000</td>\n",
       "      <td>23.000000</td>\n",
       "      <td>59.000000</td>\n",
       "      <td>62144.00000</td>\n",
       "    </tr>\n",
       "  </tbody>\n",
       "</table>\n",
       "</div>"
      ],
      "text/plain": [
       "         année     mois          jour         heure        minute         loss\n",
       "count  11431.0  11431.0  11431.000000  11431.000000  11431.000000  11431.00000\n",
       "mean    2018.0      4.0     20.116525     11.476861     29.535736   2802.11985\n",
       "std        0.0      0.0      2.324896      6.945089     17.320597   3632.25416\n",
       "min     2018.0      4.0     16.000000      0.000000      0.000000      0.00000\n",
       "25%     2018.0      4.0     18.000000      5.000000     15.000000    836.00000\n",
       "50%     2018.0      4.0     20.000000     11.000000     30.000000   1776.00000\n",
       "75%     2018.0      4.0     22.000000     18.000000     45.000000   3458.00000\n",
       "max     2018.0      4.0     24.000000     23.000000     59.000000  62144.00000"
      ]
     },
     "execution_count": 90,
     "metadata": {},
     "output_type": "execute_result"
    }
   ],
   "source": [
    "loss.describe()"
   ]
  },
  {
   "cell_type": "code",
   "execution_count": 95,
   "metadata": {},
   "outputs": [],
   "source": [
    "loss = loss[loss['jour']==20]\n",
    "gain = gain[gain['jour']==20]"
   ]
  },
  {
   "cell_type": "code",
   "execution_count": 96,
   "metadata": {},
   "outputs": [
    {
     "data": {
      "text/html": [
       "<div>\n",
       "<style scoped>\n",
       "    .dataframe tbody tr th:only-of-type {\n",
       "        vertical-align: middle;\n",
       "    }\n",
       "\n",
       "    .dataframe tbody tr th {\n",
       "        vertical-align: top;\n",
       "    }\n",
       "\n",
       "    .dataframe thead th {\n",
       "        text-align: right;\n",
       "    }\n",
       "</style>\n",
       "<table border=\"1\" class=\"dataframe\">\n",
       "  <thead>\n",
       "    <tr style=\"text-align: right;\">\n",
       "      <th></th>\n",
       "      <th>année</th>\n",
       "      <th>mois</th>\n",
       "      <th>jour</th>\n",
       "      <th>heure</th>\n",
       "      <th>minute</th>\n",
       "      <th>loss</th>\n",
       "      <th>time</th>\n",
       "    </tr>\n",
       "  </thead>\n",
       "  <tbody>\n",
       "    <tr>\n",
       "      <th>4652</th>\n",
       "      <td>2018</td>\n",
       "      <td>4</td>\n",
       "      <td>20</td>\n",
       "      <td>0</td>\n",
       "      <td>0</td>\n",
       "      <td>1249</td>\n",
       "      <td>0</td>\n",
       "    </tr>\n",
       "    <tr>\n",
       "      <th>9914</th>\n",
       "      <td>2018</td>\n",
       "      <td>4</td>\n",
       "      <td>20</td>\n",
       "      <td>0</td>\n",
       "      <td>1</td>\n",
       "      <td>1520</td>\n",
       "      <td>1</td>\n",
       "    </tr>\n",
       "    <tr>\n",
       "      <th>1397</th>\n",
       "      <td>2018</td>\n",
       "      <td>4</td>\n",
       "      <td>20</td>\n",
       "      <td>0</td>\n",
       "      <td>2</td>\n",
       "      <td>1544</td>\n",
       "      <td>2</td>\n",
       "    </tr>\n",
       "    <tr>\n",
       "      <th>3304</th>\n",
       "      <td>2018</td>\n",
       "      <td>4</td>\n",
       "      <td>20</td>\n",
       "      <td>0</td>\n",
       "      <td>3</td>\n",
       "      <td>1533</td>\n",
       "      <td>3</td>\n",
       "    </tr>\n",
       "    <tr>\n",
       "      <th>8934</th>\n",
       "      <td>2018</td>\n",
       "      <td>4</td>\n",
       "      <td>20</td>\n",
       "      <td>0</td>\n",
       "      <td>4</td>\n",
       "      <td>3603</td>\n",
       "      <td>4</td>\n",
       "    </tr>\n",
       "  </tbody>\n",
       "</table>\n",
       "</div>"
      ],
      "text/plain": [
       "      année  mois  jour  heure  minute  loss  time\n",
       "4652   2018     4    20      0       0  1249     0\n",
       "9914   2018     4    20      0       1  1520     1\n",
       "1397   2018     4    20      0       2  1544     2\n",
       "3304   2018     4    20      0       3  1533     3\n",
       "8934   2018     4    20      0       4  3603     4"
      ]
     },
     "execution_count": 96,
     "metadata": {},
     "output_type": "execute_result"
    }
   ],
   "source": [
    "loss.head()"
   ]
  },
  {
   "cell_type": "code",
   "execution_count": 97,
   "metadata": {},
   "outputs": [],
   "source": [
    "loss['time'] = loss['heure']*60+loss['minute']\n",
    "gain['time'] = gain['heure']*60+gain['minute']"
   ]
  },
  {
   "cell_type": "code",
   "execution_count": 98,
   "metadata": {},
   "outputs": [],
   "source": [
    "loss = loss.sort_values('time')\n",
    "gain = gain.sort_values('time')"
   ]
  },
  {
   "cell_type": "code",
   "execution_count": 99,
   "metadata": {},
   "outputs": [
    {
     "data": {
      "text/html": [
       "<div>\n",
       "<style scoped>\n",
       "    .dataframe tbody tr th:only-of-type {\n",
       "        vertical-align: middle;\n",
       "    }\n",
       "\n",
       "    .dataframe tbody tr th {\n",
       "        vertical-align: top;\n",
       "    }\n",
       "\n",
       "    .dataframe thead th {\n",
       "        text-align: right;\n",
       "    }\n",
       "</style>\n",
       "<table border=\"1\" class=\"dataframe\">\n",
       "  <thead>\n",
       "    <tr style=\"text-align: right;\">\n",
       "      <th></th>\n",
       "      <th>année</th>\n",
       "      <th>mois</th>\n",
       "      <th>jour</th>\n",
       "      <th>heure</th>\n",
       "      <th>minute</th>\n",
       "      <th>loss</th>\n",
       "      <th>time</th>\n",
       "    </tr>\n",
       "  </thead>\n",
       "  <tbody>\n",
       "    <tr>\n",
       "      <th>4652</th>\n",
       "      <td>2018</td>\n",
       "      <td>4</td>\n",
       "      <td>20</td>\n",
       "      <td>0</td>\n",
       "      <td>0</td>\n",
       "      <td>1249</td>\n",
       "      <td>0</td>\n",
       "    </tr>\n",
       "    <tr>\n",
       "      <th>9914</th>\n",
       "      <td>2018</td>\n",
       "      <td>4</td>\n",
       "      <td>20</td>\n",
       "      <td>0</td>\n",
       "      <td>1</td>\n",
       "      <td>1520</td>\n",
       "      <td>1</td>\n",
       "    </tr>\n",
       "    <tr>\n",
       "      <th>1397</th>\n",
       "      <td>2018</td>\n",
       "      <td>4</td>\n",
       "      <td>20</td>\n",
       "      <td>0</td>\n",
       "      <td>2</td>\n",
       "      <td>1544</td>\n",
       "      <td>2</td>\n",
       "    </tr>\n",
       "    <tr>\n",
       "      <th>3304</th>\n",
       "      <td>2018</td>\n",
       "      <td>4</td>\n",
       "      <td>20</td>\n",
       "      <td>0</td>\n",
       "      <td>3</td>\n",
       "      <td>1533</td>\n",
       "      <td>3</td>\n",
       "    </tr>\n",
       "    <tr>\n",
       "      <th>8934</th>\n",
       "      <td>2018</td>\n",
       "      <td>4</td>\n",
       "      <td>20</td>\n",
       "      <td>0</td>\n",
       "      <td>4</td>\n",
       "      <td>3603</td>\n",
       "      <td>4</td>\n",
       "    </tr>\n",
       "  </tbody>\n",
       "</table>\n",
       "</div>"
      ],
      "text/plain": [
       "      année  mois  jour  heure  minute  loss  time\n",
       "4652   2018     4    20      0       0  1249     0\n",
       "9914   2018     4    20      0       1  1520     1\n",
       "1397   2018     4    20      0       2  1544     2\n",
       "3304   2018     4    20      0       3  1533     3\n",
       "8934   2018     4    20      0       4  3603     4"
      ]
     },
     "execution_count": 99,
     "metadata": {},
     "output_type": "execute_result"
    }
   ],
   "source": [
    "loss.head()"
   ]
  },
  {
   "cell_type": "code",
   "execution_count": 100,
   "metadata": {},
   "outputs": [
    {
     "data": {
      "text/plain": [
       "'file:///home/alexis/Bureau/Stage/Vectors/loss-bar.html'"
      ]
     },
     "execution_count": 100,
     "metadata": {},
     "output_type": "execute_result"
    }
   ],
   "source": [
    "import plotly\n",
    "import plotly.graph_objs as go\n",
    "import plotly.offline as offline\n",
    "from plotly import tools\n",
    "from plotly.offline import download_plotlyjs, init_notebook_mode, plot, iplot\n",
    "\n",
    "\n",
    "data = [go.Bar(\n",
    "            x=[x/60 for x in loss['time'].values],\n",
    "            y=loss['loss'].values\n",
    "    )]\n",
    "plot(data, filename='loss-bar')"
   ]
  },
  {
   "cell_type": "code",
   "execution_count": 101,
   "metadata": {},
   "outputs": [
    {
     "data": {
      "text/plain": [
       "'file:///home/alexis/Bureau/Stage/Vectors/gain-bar.html'"
      ]
     },
     "execution_count": 101,
     "metadata": {},
     "output_type": "execute_result"
    }
   ],
   "source": [
    "data = [go.Bar(\n",
    "            x=[x/60 for x in gain['time'].values],\n",
    "            y=gain['gain'].values\n",
    "    )]\n",
    "plot(data, filename='gain-bar')"
   ]
  },
  {
   "cell_type": "code",
   "execution_count": 106,
   "metadata": {},
   "outputs": [
    {
     "data": {
      "text/plain": [
       "'file:///home/alexis/Bureau/Stage/Vectors/all-bar.html'"
      ]
     },
     "execution_count": 106,
     "metadata": {},
     "output_type": "execute_result"
    }
   ],
   "source": [
    "trace1 = go.Bar(\n",
    "            x=[x/60 for x in loss['time'].values],\n",
    "            y=-loss['loss'].values/30000,\n",
    "    name='loss'\n",
    ")\n",
    "trace2 = go.Bar(\n",
    "            x=[x/60 for x in gain['time'].values],\n",
    "            y=gain['gain'].values/30000,\n",
    "    name='gain'\n",
    ")\n",
    "\n",
    "data = [trace1, trace2]\n",
    "layout = go.Layout(\n",
    "    barmode='group'\n",
    ")\n",
    "\n",
    "fig = go.Figure(data=data, layout=layout)\n",
    "plot(data, filename='all-bar')"
   ]
  },
  {
   "cell_type": "code",
   "execution_count": 107,
   "metadata": {},
   "outputs": [],
   "source": [
    "l = pd.DataFrame()\n",
    "l['values'] = loss['loss']\n"
   ]
  },
  {
   "cell_type": "code",
   "execution_count": 109,
   "metadata": {},
   "outputs": [],
   "source": [
    "l.to_csv('test.csv',index=False)"
   ]
  },
  {
   "cell_type": "code",
   "execution_count": null,
   "metadata": {},
   "outputs": [],
   "source": []
  }
 ],
 "metadata": {
  "kernelspec": {
   "display_name": "Python 3",
   "language": "python",
   "name": "python3"
  },
  "language_info": {
   "codemirror_mode": {
    "name": "ipython",
    "version": 3
   },
   "file_extension": ".py",
   "mimetype": "text/x-python",
   "name": "python",
   "nbconvert_exporter": "python",
   "pygments_lexer": "ipython3",
   "version": "3.6.5"
  }
 },
 "nbformat": 4,
 "nbformat_minor": 2
}
